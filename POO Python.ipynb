{
 "cells": [
  {
   "cell_type": "markdown",
   "metadata": {},
   "source": [
    "# CLASSE LIVRO"
   ]
  },
  {
   "cell_type": "code",
   "execution_count": 57,
   "metadata": {
    "collapsed": false
   },
   "outputs": [],
   "source": [
    "class Livro():\n",
    "    \n",
    "    def __init__(self, titulo, isbn):\n",
    "        #Inicializa a classe\n",
    "        self.titulo = titulo\n",
    "        self.isbn = isbn\n",
    "        print('Objeto criado com sucesso!')\n",
    "    \n",
    "    def dados(self, titulo, isbn):\n",
    "        #Imprime os dados do livro\n",
    "        print('LIVRO: %s, ISBN: %d' %(titulo, isbn))"
   ]
  },
  {
   "cell_type": "code",
   "execution_count": 58,
   "metadata": {
    "collapsed": false
   },
   "outputs": [
    {
     "name": "stdout",
     "output_type": "stream",
     "text": [
      "Objeto criado com sucesso!\n"
     ]
    }
   ],
   "source": [
    "# Instância da classe, um objeto.\n",
    "Livro1 = Livro('Python 3', 223089173)"
   ]
  },
  {
   "cell_type": "code",
   "execution_count": 59,
   "metadata": {
    "collapsed": false
   },
   "outputs": [
    {
     "data": {
      "text/plain": [
       "'Python 3'"
      ]
     },
     "execution_count": 59,
     "metadata": {},
     "output_type": "execute_result"
    }
   ],
   "source": [
    "# Acessando o atributo titulo\n",
    "Livro1.titulo"
   ]
  },
  {
   "cell_type": "code",
   "execution_count": 60,
   "metadata": {
    "collapsed": false
   },
   "outputs": [
    {
     "data": {
      "text/plain": [
       "223089173"
      ]
     },
     "execution_count": 60,
     "metadata": {},
     "output_type": "execute_result"
    }
   ],
   "source": [
    "# Acessando o atributo isbn\n",
    "Livro1.isbn"
   ]
  },
  {
   "cell_type": "code",
   "execution_count": 61,
   "metadata": {
    "collapsed": false
   },
   "outputs": [
    {
     "name": "stdout",
     "output_type": "stream",
     "text": [
      "LIVRO: Python 3, ISBN: 223089173\n"
     ]
    }
   ],
   "source": [
    "# Acessando o método dados\n",
    "Livro1.dados(Livro1.titulo, Livro1.isbn)"
   ]
  },
  {
   "cell_type": "markdown",
   "metadata": {},
   "source": [
    "# CLASSE CACHORRO"
   ]
  },
  {
   "cell_type": "code",
   "execution_count": 62,
   "metadata": {
    "collapsed": false
   },
   "outputs": [
    {
     "name": "stdout",
     "output_type": "stream",
     "text": [
      "Objeto Criado com sucesso!\n",
      "Objeto Criado com sucesso!\n"
     ]
    }
   ],
   "source": [
    "class Cachorro():\n",
    "    \n",
    "    def __init__(self, raça):\n",
    "        self.raça = raça;\n",
    "        print('Objeto Criado com sucesso!')\n",
    "    \n",
    "Rex = Cachorro(raça='Pit Bull')\n",
    "\n",
    "Golias = Cachorro(raça='Bully')"
   ]
  },
  {
   "cell_type": "code",
   "execution_count": null,
   "metadata": {
    "collapsed": true
   },
   "outputs": [],
   "source": []
  }
 ],
 "metadata": {
  "kernelspec": {
   "display_name": "Python 3",
   "language": "python",
   "name": "python3"
  },
  "language_info": {
   "codemirror_mode": {
    "name": "ipython",
    "version": 3
   },
   "file_extension": ".py",
   "mimetype": "text/x-python",
   "name": "python",
   "nbconvert_exporter": "python",
   "pygments_lexer": "ipython3",
   "version": "3.6.0"
  }
 },
 "nbformat": 4,
 "nbformat_minor": 2
}
