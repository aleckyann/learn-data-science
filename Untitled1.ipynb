{
 "cells": [
  {
   "cell_type": "markdown",
   "metadata": {},
   "source": [
    "<center><h1>LISTAS</h1>\n",
    "Listas podem ser compostas de objetos de vários tipos"
   ]
  },
  {
   "cell_type": "markdown",
   "metadata": {},
   "source": [
    "---\n",
    "Listas unidimensionais\n",
    "---\n"
   ]
  },
  {
   "cell_type": "code",
   "execution_count": 3,
   "metadata": {
    "collapsed": true
   },
   "outputs": [],
   "source": [
    "tarefas = ['banhar', 'comer', 'estudar', 'dormir']"
   ]
  },
  {
   "cell_type": "code",
   "execution_count": 4,
   "metadata": {
    "collapsed": false
   },
   "outputs": [
    {
     "data": {
      "text/plain": [
       "['banhar', 'comer', 'estudar', 'dormir']"
      ]
     },
     "execution_count": 4,
     "metadata": {},
     "output_type": "execute_result"
    }
   ],
   "source": [
    "tarefas"
   ]
  },
  {
   "cell_type": "code",
   "execution_count": 5,
   "metadata": {
    "collapsed": true
   },
   "outputs": [],
   "source": [
    "dados_pessoais = ['João Francisco', 23, 1.86]"
   ]
  },
  {
   "cell_type": "code",
   "execution_count": 6,
   "metadata": {
    "collapsed": false
   },
   "outputs": [
    {
     "data": {
      "text/plain": [
       "['João Francisco', 23, 1.86]"
      ]
     },
     "execution_count": 6,
     "metadata": {},
     "output_type": "execute_result"
    }
   ],
   "source": [
    "dados_pessoais"
   ]
  },
  {
   "cell_type": "markdown",
   "metadata": {},
   "source": [
    "---\n",
    "Listas bi-dimensionais\n",
    "---"
   ]
  },
  {
   "cell_type": "code",
   "execution_count": 7,
   "metadata": {
    "collapsed": true
   },
   "outputs": [],
   "source": [
    "dados = [['nome', 'Aleck Yann'], ['idade', 23], ['altura', 1.86]]"
   ]
  },
  {
   "cell_type": "code",
   "execution_count": 8,
   "metadata": {
    "collapsed": false
   },
   "outputs": [
    {
     "data": {
      "text/plain": [
       "[['nome', 'Aleck Yann'], ['idade', 23], ['altura', 1.86]]"
      ]
     },
     "execution_count": 8,
     "metadata": {},
     "output_type": "execute_result"
    }
   ],
   "source": [
    "dados"
   ]
  },
  {
   "cell_type": "code",
   "execution_count": 9,
   "metadata": {
    "collapsed": false
   },
   "outputs": [
    {
     "data": {
      "text/plain": [
       "['nome', 'Aleck Yann']"
      ]
     },
     "execution_count": 9,
     "metadata": {},
     "output_type": "execute_result"
    }
   ],
   "source": [
    "dados[0]"
   ]
  },
  {
   "cell_type": "code",
   "execution_count": 10,
   "metadata": {
    "collapsed": false
   },
   "outputs": [
    {
     "data": {
      "text/plain": [
       "'Aleck Yann'"
      ]
     },
     "execution_count": 10,
     "metadata": {},
     "output_type": "execute_result"
    }
   ],
   "source": [
    "dados[0][1]"
   ]
  },
  {
   "cell_type": "code",
   "execution_count": 24,
   "metadata": {
    "collapsed": false
   },
   "outputs": [],
   "source": [
    "dados[0] = ['sobrenome', 'Mattos']"
   ]
  },
  {
   "cell_type": "code",
   "execution_count": 25,
   "metadata": {
    "collapsed": false
   },
   "outputs": [
    {
     "data": {
      "text/plain": [
       "['sobrenome', 'Mattos']"
      ]
     },
     "execution_count": 25,
     "metadata": {},
     "output_type": "execute_result"
    }
   ],
   "source": [
    "dados[0]"
   ]
  },
  {
   "cell_type": "markdown",
   "metadata": {},
   "source": [
    "---\n",
    "Listas tri-dimensionais\n",
    "---"
   ]
  },
  {
   "cell_type": "code",
   "execution_count": 31,
   "metadata": {
    "collapsed": true
   },
   "outputs": [],
   "source": [
    "tri = [[['1a','1aa'],['2a','2aa'],['3a', '3aa']],[['1b', '1bb'],['2b', '2bb'],['3b', '3bb']],[['1c', '1cc'],['2c', '2cc'],['3c', '3cc']]]"
   ]
  },
  {
   "cell_type": "code",
   "execution_count": 32,
   "metadata": {
    "collapsed": false
   },
   "outputs": [
    {
     "data": {
      "text/plain": [
       "[[['1a', '1aa'], ['2a', '2aa'], ['3a', '3aa']],\n",
       " [['1b', '1bb'], ['2b', '2bb'], ['3b', '3bb']],\n",
       " [['1c', '1cc'], ['2c', '2cc'], ['3c', '3cc']]]"
      ]
     },
     "execution_count": 32,
     "metadata": {},
     "output_type": "execute_result"
    }
   ],
   "source": [
    "tri"
   ]
  },
  {
   "cell_type": "code",
   "execution_count": 34,
   "metadata": {
    "collapsed": false
   },
   "outputs": [
    {
     "data": {
      "text/plain": [
       "'2cc'"
      ]
     },
     "execution_count": 34,
     "metadata": {},
     "output_type": "execute_result"
    }
   ],
   "source": [
    "#Selecionando 2cc:\n",
    "tri[2][1][1]"
   ]
  },
  {
   "cell_type": "markdown",
   "metadata": {},
   "source": [
    "---\n",
    "Storm-list\n",
    "---"
   ]
  },
  {
   "cell_type": "code",
   "execution_count": 344,
   "metadata": {
    "collapsed": false
   },
   "outputs": [
    {
     "name": "stdout",
     "output_type": "stream",
     "text": [
      "[1.0]\n",
      "[1.0, 1.1, 0.09999999999999998]\n",
      "[1.0, 1.1, 0.09999999999999998, 0.1200000000000001]\n",
      "[1.0, 1.1, 0.09999999999999998, 0.1200000000000001, -0.897]\n",
      "[1.0, 1.1, 0.09999999999999998, 0.1200000000000001, -0.897, -0.8796]\n",
      "[1.0, 1.1, 0.09999999999999998, 0.1200000000000001, -0.897, -0.8796, -1.89695]\n",
      "[1.0, 1.1, 0.09999999999999998, 0.1200000000000001, -0.897, -0.8796, -1.89695]\n"
     ]
    }
   ],
   "source": [
    "def resumePot(fator, cols):\n",
    "    result = []\n",
    "    init = 0\n",
    "    for col in range(0, cols):\n",
    "        if init == 1:\n",
    "            result.append(fator * 10 ** -col  + (result[col-1]))\n",
    "            init+=1\n",
    "        if init == 0:\n",
    "            result.append(fator * 10 ** -col)\n",
    "            init+=1\n",
    "        else:\n",
    "            result.append(fator * 10 ** -col * col + round(result[col], col) )\n",
    "        print(result)\n",
    "    return result\n",
    "\n",
    "print(resumePot(1.0, 6))\n",
    "\n",
    "#storm(1.0, 10)"
   ]
  },
  {
   "cell_type": "code",
   "execution_count": 86,
   "metadata": {
    "collapsed": true
   },
   "outputs": [],
   "source": []
  },
  {
   "cell_type": "code",
   "execution_count": 162,
   "metadata": {
    "collapsed": false
   },
   "outputs": [
    {
     "data": {
      "text/plain": [
       "0.0"
      ]
     },
     "execution_count": 162,
     "metadata": {},
     "output_type": "execute_result"
    }
   ],
   "source": [
    "round(3*(10**-10), 2)"
   ]
  },
  {
   "cell_type": "code",
   "execution_count": 59,
   "metadata": {
    "collapsed": false
   },
   "outputs": [
    {
     "data": {
      "text/plain": [
       "3.3"
      ]
     },
     "execution_count": 59,
     "metadata": {},
     "output_type": "execute_result"
    }
   ],
   "source": [
    "#Selecionando 3.3:\n",
    "tetra[2][2][0][1]"
   ]
  },
  {
   "cell_type": "code",
   "execution_count": null,
   "metadata": {
    "collapsed": true
   },
   "outputs": [],
   "source": [
    "storm = [\n",
    "            [\n",
    "                [\n",
    "                    [1.0, 1.1, 1.12, 1.123], [1.1, 1.11, 1.112, 1.1123], [1.11, 1.112, 1.1123, 1.11234], [1.111, 1.1112, 1.11123, 1.111234]\n",
    "                ],\n",
    "                [\n",
    "                    [1.1, 1.2, 1.23, 1.234], [1.2, 1.22, 1.223, 1.2234], [1.22, 1.223, 1.2234, 1.22345], [1.222, 1.2223, 1.22234, 1.222345]\n",
    "                ],\n",
    "                [\n",
    "                    [1.1, 1.3, 1.34, 1.345], [1.3, 1.33, 1.334, 1.3345], [1.33, 1.334, 1.3345, 1.33456], [1.333, 1.3334, 1.33345, 1.333456]\n",
    "                ],fator0 / 1000000) + (fator0 / 1000000), 6)\n",
    "                [\n",
    "                    [1.1, 1.4, 1.45, 1.456], [1.4, 1.44, 1.445, 1.4456], [1.44, 1.445, 1.4456, 1.444567], [1.444, 1.4445, 1.44456, 1.444567]\n",
    "                ]\n",
    "            ], \n",
    "            [\n",
    "                [\n",
    "                    [2.0, 2.1, 2.12, 2.123], [2.1, 2.11, 2.112, 2.1123], [2.111, 2.1112, 2., 2.], [2.1111, 2., 2., 2.]\n",
    "                ],\n",
    "                [\n",
    "                    [2.0, 2.2, 2.23, 2.234], [2.2, 2.22, 2.223, 2.2234], [2.222, 2.2223, 2., 2.], [2.2222, 2., 2., 2.]\n",
    "                ],\n",
    "                [\n",
    "                    [2.0, 2.3, 2.34, 2.345], [2.3, 2.33, 2.334, 4.3345], [2.333, 2.33, 2., 2.], [2.3333, 2., 2., 2.]\n",
    "                ],\n",
    "                [\n",
    "                    [2.0, 2.4, 2.45, 2.456], [2.4, 2.44, 2.445, 2.4456], [2.444, 2., 2., 2.], [2.4444, 2., 2., 2.]\n",
    "                ]\n",
    "            ], \n",
    "            [\n",
    "                [\n",
    "                    [3.0, 3.1, 3.12, 3.123], [3.1, 3.11, 3.112, 3.1123], [3.111, 3., 3., 3.], [3.1111, 3., 3., 3.]\n",
    "                ],\n",
    "                [\n",
    "                    [3.0, 3.2, 3.23, 3.234], [3.2, 3.22, 3.223, 3.2234], [3.222, 3., 3., 3.], [3.2222, 3., 3., 3.]\n",
    "                ],\n",
    "                [\n",
    "                    [3.0, 3.3, 3.34, 3.345], [3.3, 3.33, 3.334, 3.3345], [3.333, 3., 3., 3.], [3.3333, 3., 3., 3.]\n",
    "                ],\n",
    "                [\n",
    "                    [3.0, 3.4, 3.45, 3.456], [3.4, 3.44, 3.445, 3.4456], [3.333, 3., 3., 3.], [3.4444, 3., 3., 3.]\n",
    "                ]\n",
    "            ], \n",
    "            [\n",
    "                [\n",
    "                    [4.0, 4.1, 4.12, 4.123], [4.1, 4.11, 4.112, 4.1123], [4.111, 4., 4., 4.], [4.1111, 4., 4., 4.]\n",
    "                ],\n",
    "                [\n",
    "                    [4.0, 4.2, 4.23, 4.234], [4.2, 4.22, 4.223, 4.2234], [4.222, 4., 4., 4.], [4.2222, 4., 4., 4.]\n",
    "                ],\n",
    "                [\n",
    "                    [4.0, 4.3, 4.33, 4.334], [4.3, 4.33, 4.334, 4.3345], [4.333, 4., 4., 4.], [4.3333, 4., 4., 4.]\n",
    "                ],\n",
    "                [\n",
    "                    [4.0, 4.4, 4.45, 4.456], [4.4, 4.44, 4.445, 4.4456], [4.444, 4., 4., 4.], [4.4444, 4., 4., 4.]\n",
    "                ]\n",
    "            ]\n",
    "        ]\n"
   ]
  }
 ],
 "metadata": {
  "kernelspec": {
   "display_name": "Python 3",
   "language": "python",
   "name": "python3"
  },
  "language_info": {
   "codemirror_mode": {
    "name": "ipython",
    "version": 3
   },
   "file_extension": ".py",
   "mimetype": "text/x-python",
   "name": "python",
   "nbconvert_exporter": "python",
   "pygments_lexer": "ipython3",
   "version": "3.6.0"
  }
 },
 "nbformat": 4,
 "nbformat_minor": 2
}
