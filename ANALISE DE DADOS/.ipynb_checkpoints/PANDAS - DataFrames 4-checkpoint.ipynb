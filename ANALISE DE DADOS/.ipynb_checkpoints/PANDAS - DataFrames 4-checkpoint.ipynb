{
 "cells": [
  {
   "cell_type": "markdown",
   "metadata": {
    "collapsed": true
   },
   "source": [
    "<center><h1>PANDAS<h1><center>"
   ]
  },
  {
   "cell_type": "code",
   "execution_count": 3,
   "metadata": {
    "collapsed": true
   },
   "outputs": [],
   "source": [
    "#IMPORTANDO PANDAS E NUMPY\n",
    "import pandas as pd\n",
    "import numpy as np"
   ]
  },
  {
   "cell_type": "markdown",
   "metadata": {},
   "source": [
    "---"
   ]
  },
  {
   "cell_type": "code",
   "execution_count": 8,
   "metadata": {
    "collapsed": false
   },
   "outputs": [
    {
     "data": {
      "text/html": [
       "<div>\n",
       "<table border=\"1\" class=\"dataframe\">\n",
       "  <thead>\n",
       "    <tr style=\"text-align: right;\">\n",
       "      <th></th>\n",
       "      <th>A</th>\n",
       "      <th>B</th>\n",
       "      <th>C</th>\n",
       "      <th>D</th>\n",
       "    </tr>\n",
       "  </thead>\n",
       "  <tbody>\n",
       "    <tr>\n",
       "      <th>2013-01-01</th>\n",
       "      <td>0.081681</td>\n",
       "      <td>-0.923354</td>\n",
       "      <td>-0.458578</td>\n",
       "      <td>-0.675132</td>\n",
       "    </tr>\n",
       "    <tr>\n",
       "      <th>2013-01-02</th>\n",
       "      <td>0.158518</td>\n",
       "      <td>-1.532612</td>\n",
       "      <td>-1.109147</td>\n",
       "      <td>-1.964773</td>\n",
       "    </tr>\n",
       "    <tr>\n",
       "      <th>2013-01-03</th>\n",
       "      <td>-2.368920</td>\n",
       "      <td>1.015884</td>\n",
       "      <td>0.596610</td>\n",
       "      <td>2.072125</td>\n",
       "    </tr>\n",
       "    <tr>\n",
       "      <th>2013-01-04</th>\n",
       "      <td>0.453178</td>\n",
       "      <td>0.316027</td>\n",
       "      <td>-0.741724</td>\n",
       "      <td>-1.118234</td>\n",
       "    </tr>\n",
       "    <tr>\n",
       "      <th>2013-01-05</th>\n",
       "      <td>-0.419054</td>\n",
       "      <td>-1.321763</td>\n",
       "      <td>-1.062469</td>\n",
       "      <td>0.957217</td>\n",
       "    </tr>\n",
       "    <tr>\n",
       "      <th>2013-01-06</th>\n",
       "      <td>-0.731547</td>\n",
       "      <td>-0.711244</td>\n",
       "      <td>-0.361183</td>\n",
       "      <td>-0.483244</td>\n",
       "    </tr>\n",
       "    <tr>\n",
       "      <th>2013-01-07</th>\n",
       "      <td>2.045183</td>\n",
       "      <td>0.363899</td>\n",
       "      <td>-1.783509</td>\n",
       "      <td>0.019536</td>\n",
       "    </tr>\n",
       "    <tr>\n",
       "      <th>2013-01-08</th>\n",
       "      <td>-1.420867</td>\n",
       "      <td>1.357777</td>\n",
       "      <td>-0.263478</td>\n",
       "      <td>-0.882042</td>\n",
       "    </tr>\n",
       "    <tr>\n",
       "      <th>2013-01-09</th>\n",
       "      <td>0.027492</td>\n",
       "      <td>-0.636143</td>\n",
       "      <td>0.584379</td>\n",
       "      <td>-1.699238</td>\n",
       "    </tr>\n",
       "    <tr>\n",
       "      <th>2013-01-10</th>\n",
       "      <td>-1.039468</td>\n",
       "      <td>0.152525</td>\n",
       "      <td>-1.501820</td>\n",
       "      <td>-1.801345</td>\n",
       "    </tr>\n",
       "  </tbody>\n",
       "</table>\n",
       "</div>"
      ],
      "text/plain": [
       "                   A         B         C         D\n",
       "2013-01-01  0.081681 -0.923354 -0.458578 -0.675132\n",
       "2013-01-02  0.158518 -1.532612 -1.109147 -1.964773\n",
       "2013-01-03 -2.368920  1.015884  0.596610  2.072125\n",
       "2013-01-04  0.453178  0.316027 -0.741724 -1.118234\n",
       "2013-01-05 -0.419054 -1.321763 -1.062469  0.957217\n",
       "2013-01-06 -0.731547 -0.711244 -0.361183 -0.483244\n",
       "2013-01-07  2.045183  0.363899 -1.783509  0.019536\n",
       "2013-01-08 -1.420867  1.357777 -0.263478 -0.882042\n",
       "2013-01-09  0.027492 -0.636143  0.584379 -1.699238\n",
       "2013-01-10 -1.039468  0.152525 -1.501820 -1.801345"
      ]
     },
     "execution_count": 8,
     "metadata": {},
     "output_type": "execute_result"
    }
   ],
   "source": [
    "#Criando um DataFrame\n",
    "dates = pd.date_range('20130101', periods=10)\n",
    "df = pd.DataFrame(np.random.randn(10,4), index = dates, columns = list('ABCD'))\n",
    "df"
   ]
  },
  {
   "cell_type": "code",
   "execution_count": 9,
   "metadata": {
    "collapsed": false
   },
   "outputs": [
    {
     "data": {
      "text/html": [
       "<div>\n",
       "<table border=\"1\" class=\"dataframe\">\n",
       "  <thead>\n",
       "    <tr style=\"text-align: right;\">\n",
       "      <th></th>\n",
       "      <th>A</th>\n",
       "      <th>B</th>\n",
       "      <th>C</th>\n",
       "      <th>D</th>\n",
       "    </tr>\n",
       "  </thead>\n",
       "  <tbody>\n",
       "    <tr>\n",
       "      <th>count</th>\n",
       "      <td>10.000000</td>\n",
       "      <td>10.000000</td>\n",
       "      <td>10.000000</td>\n",
       "      <td>10.000000</td>\n",
       "    </tr>\n",
       "    <tr>\n",
       "      <th>mean</th>\n",
       "      <td>-0.321380</td>\n",
       "      <td>-0.191900</td>\n",
       "      <td>-0.610092</td>\n",
       "      <td>-0.557513</td>\n",
       "    </tr>\n",
       "    <tr>\n",
       "      <th>std</th>\n",
       "      <td>1.193024</td>\n",
       "      <td>0.978773</td>\n",
       "      <td>0.797988</td>\n",
       "      <td>1.282901</td>\n",
       "    </tr>\n",
       "    <tr>\n",
       "      <th>min</th>\n",
       "      <td>-2.368920</td>\n",
       "      <td>-1.532612</td>\n",
       "      <td>-1.783509</td>\n",
       "      <td>-1.964773</td>\n",
       "    </tr>\n",
       "    <tr>\n",
       "      <th>25%</th>\n",
       "      <td>-0.962488</td>\n",
       "      <td>-0.870326</td>\n",
       "      <td>-1.097478</td>\n",
       "      <td>-1.553987</td>\n",
       "    </tr>\n",
       "    <tr>\n",
       "      <th>50%</th>\n",
       "      <td>-0.195781</td>\n",
       "      <td>-0.241809</td>\n",
       "      <td>-0.600151</td>\n",
       "      <td>-0.778587</td>\n",
       "    </tr>\n",
       "    <tr>\n",
       "      <th>75%</th>\n",
       "      <td>0.139309</td>\n",
       "      <td>0.351931</td>\n",
       "      <td>-0.287904</td>\n",
       "      <td>-0.106159</td>\n",
       "    </tr>\n",
       "    <tr>\n",
       "      <th>max</th>\n",
       "      <td>2.045183</td>\n",
       "      <td>1.357777</td>\n",
       "      <td>0.596610</td>\n",
       "      <td>2.072125</td>\n",
       "    </tr>\n",
       "  </tbody>\n",
       "</table>\n",
       "</div>"
      ],
      "text/plain": [
       "               A          B          C          D\n",
       "count  10.000000  10.000000  10.000000  10.000000\n",
       "mean   -0.321380  -0.191900  -0.610092  -0.557513\n",
       "std     1.193024   0.978773   0.797988   1.282901\n",
       "min    -2.368920  -1.532612  -1.783509  -1.964773\n",
       "25%    -0.962488  -0.870326  -1.097478  -1.553987\n",
       "50%    -0.195781  -0.241809  -0.600151  -0.778587\n",
       "75%     0.139309   0.351931  -0.287904  -0.106159\n",
       "max     2.045183   1.357777   0.596610   2.072125"
      ]
     },
     "execution_count": 9,
     "metadata": {},
     "output_type": "execute_result"
    }
   ],
   "source": [
    "#DESCRIÇÃO DO DATAFRAME\n",
    "df.describe()"
   ]
  },
  {
   "cell_type": "code",
   "execution_count": 10,
   "metadata": {
    "collapsed": false
   },
   "outputs": [
    {
     "data": {
      "text/plain": [
       "A   -0.321380\n",
       "B   -0.191900\n",
       "C   -0.610092\n",
       "D   -0.557513\n",
       "dtype: float64"
      ]
     },
     "execution_count": 10,
     "metadata": {},
     "output_type": "execute_result"
    }
   ],
   "source": [
    "#CALCULANDO MÉDIA\n",
    "df.mean()"
   ]
  },
  {
   "cell_type": "code",
   "execution_count": 11,
   "metadata": {
    "collapsed": false
   },
   "outputs": [
    {
     "data": {
      "text/plain": [
       "2013-01-01   -0.493846\n",
       "2013-01-02   -1.112004\n",
       "2013-01-03    0.328925\n",
       "2013-01-04   -0.272688\n",
       "2013-01-05   -0.461517\n",
       "2013-01-06   -0.571804\n",
       "2013-01-07    0.161277\n",
       "2013-01-08   -0.302152\n",
       "2013-01-09   -0.430878\n",
       "2013-01-10   -1.047527\n",
       "Freq: D, dtype: float64"
      ]
     },
     "execution_count": 11,
     "metadata": {},
     "output_type": "execute_result"
    }
   ],
   "source": [
    "#PIVOT(linha vira coluna, coluna vira linha) E CÁLCULO DA MÉDIA\n",
    "df.mean(1)"
   ]
  },
  {
   "cell_type": "code",
   "execution_count": 13,
   "metadata": {
    "collapsed": false
   },
   "outputs": [
    {
     "data": {
      "text/html": [
       "<div>\n",
       "<table border=\"1\" class=\"dataframe\">\n",
       "  <thead>\n",
       "    <tr style=\"text-align: right;\">\n",
       "      <th></th>\n",
       "      <th>A</th>\n",
       "      <th>B</th>\n",
       "      <th>C</th>\n",
       "      <th>D</th>\n",
       "    </tr>\n",
       "  </thead>\n",
       "  <tbody>\n",
       "    <tr>\n",
       "      <th>2013-01-01</th>\n",
       "      <td>0.081681</td>\n",
       "      <td>-0.923354</td>\n",
       "      <td>-0.458578</td>\n",
       "      <td>-0.675132</td>\n",
       "    </tr>\n",
       "    <tr>\n",
       "      <th>2013-01-02</th>\n",
       "      <td>0.240199</td>\n",
       "      <td>-2.455966</td>\n",
       "      <td>-1.567725</td>\n",
       "      <td>-2.639905</td>\n",
       "    </tr>\n",
       "    <tr>\n",
       "      <th>2013-01-03</th>\n",
       "      <td>-2.128721</td>\n",
       "      <td>-1.440082</td>\n",
       "      <td>-0.971115</td>\n",
       "      <td>-0.567780</td>\n",
       "    </tr>\n",
       "    <tr>\n",
       "      <th>2013-01-04</th>\n",
       "      <td>-1.675543</td>\n",
       "      <td>-1.124055</td>\n",
       "      <td>-1.712839</td>\n",
       "      <td>-1.686015</td>\n",
       "    </tr>\n",
       "    <tr>\n",
       "      <th>2013-01-05</th>\n",
       "      <td>-2.094597</td>\n",
       "      <td>-2.445818</td>\n",
       "      <td>-2.775309</td>\n",
       "      <td>-0.728797</td>\n",
       "    </tr>\n",
       "    <tr>\n",
       "      <th>2013-01-06</th>\n",
       "      <td>-2.826144</td>\n",
       "      <td>-3.157062</td>\n",
       "      <td>-3.136491</td>\n",
       "      <td>-1.212041</td>\n",
       "    </tr>\n",
       "    <tr>\n",
       "      <th>2013-01-07</th>\n",
       "      <td>-0.780961</td>\n",
       "      <td>-2.793164</td>\n",
       "      <td>-4.920000</td>\n",
       "      <td>-1.192506</td>\n",
       "    </tr>\n",
       "    <tr>\n",
       "      <th>2013-01-08</th>\n",
       "      <td>-2.201828</td>\n",
       "      <td>-1.435386</td>\n",
       "      <td>-5.183479</td>\n",
       "      <td>-2.074547</td>\n",
       "    </tr>\n",
       "    <tr>\n",
       "      <th>2013-01-09</th>\n",
       "      <td>-2.174335</td>\n",
       "      <td>-2.071530</td>\n",
       "      <td>-4.599099</td>\n",
       "      <td>-3.773786</td>\n",
       "    </tr>\n",
       "    <tr>\n",
       "      <th>2013-01-10</th>\n",
       "      <td>-3.213803</td>\n",
       "      <td>-1.919004</td>\n",
       "      <td>-6.100920</td>\n",
       "      <td>-5.575131</td>\n",
       "    </tr>\n",
       "  </tbody>\n",
       "</table>\n",
       "</div>"
      ],
      "text/plain": [
       "                   A         B         C         D\n",
       "2013-01-01  0.081681 -0.923354 -0.458578 -0.675132\n",
       "2013-01-02  0.240199 -2.455966 -1.567725 -2.639905\n",
       "2013-01-03 -2.128721 -1.440082 -0.971115 -0.567780\n",
       "2013-01-04 -1.675543 -1.124055 -1.712839 -1.686015\n",
       "2013-01-05 -2.094597 -2.445818 -2.775309 -0.728797\n",
       "2013-01-06 -2.826144 -3.157062 -3.136491 -1.212041\n",
       "2013-01-07 -0.780961 -2.793164 -4.920000 -1.192506\n",
       "2013-01-08 -2.201828 -1.435386 -5.183479 -2.074547\n",
       "2013-01-09 -2.174335 -2.071530 -4.599099 -3.773786\n",
       "2013-01-10 -3.213803 -1.919004 -6.100920 -5.575131"
      ]
     },
     "execution_count": 13,
     "metadata": {},
     "output_type": "execute_result"
    }
   ],
   "source": [
    "#USANDO MÉTODOS\n",
    "df.apply(np.cumsum)"
   ]
  },
  {
   "cell_type": "code",
   "execution_count": 16,
   "metadata": {
    "collapsed": false
   },
   "outputs": [
    {
     "data": {
      "text/html": [
       "<div>\n",
       "<table border=\"1\" class=\"dataframe\">\n",
       "  <thead>\n",
       "    <tr style=\"text-align: right;\">\n",
       "      <th></th>\n",
       "      <th>chave</th>\n",
       "      <th>coluna1</th>\n",
       "      <th>coluna2</th>\n",
       "    </tr>\n",
       "  </thead>\n",
       "  <tbody>\n",
       "    <tr>\n",
       "      <th>0</th>\n",
       "      <td>chave1</td>\n",
       "      <td>1</td>\n",
       "      <td>4</td>\n",
       "    </tr>\n",
       "    <tr>\n",
       "      <th>1</th>\n",
       "      <td>chave2</td>\n",
       "      <td>2</td>\n",
       "      <td>5</td>\n",
       "    </tr>\n",
       "  </tbody>\n",
       "</table>\n",
       "</div>"
      ],
      "text/plain": [
       "    chave  coluna1  coluna2\n",
       "0  chave1        1        4\n",
       "1  chave2        2        5"
      ]
     },
     "execution_count": 16,
     "metadata": {},
     "output_type": "execute_result"
    }
   ],
   "source": [
    "#MERGE DE DATAFRAMES, ISTO É, UNIR DATAFRAMES\n",
    "left = pd.DataFrame({'chave':['chave1', 'chave2'], 'coluna1':[1,2] })\n",
    "right = pd.DataFrame({'chave':['chave1', 'chave2'], 'coluna2':[4,5] })\n",
    "pd.merge(left, right, on='chave')"
   ]
  },
  {
   "cell_type": "code",
   "execution_count": 17,
   "metadata": {
    "collapsed": false
   },
   "outputs": [
    {
     "data": {
      "text/html": [
       "<div>\n",
       "<table border=\"1\" class=\"dataframe\">\n",
       "  <thead>\n",
       "    <tr style=\"text-align: right;\">\n",
       "      <th></th>\n",
       "      <th>A</th>\n",
       "      <th>B</th>\n",
       "      <th>C</th>\n",
       "      <th>D</th>\n",
       "    </tr>\n",
       "  </thead>\n",
       "  <tbody>\n",
       "    <tr>\n",
       "      <th>0</th>\n",
       "      <td>-0.283870</td>\n",
       "      <td>-0.829192</td>\n",
       "      <td>1.346998</td>\n",
       "      <td>0.125322</td>\n",
       "    </tr>\n",
       "    <tr>\n",
       "      <th>1</th>\n",
       "      <td>1.938847</td>\n",
       "      <td>-0.293333</td>\n",
       "      <td>0.129289</td>\n",
       "      <td>-0.983380</td>\n",
       "    </tr>\n",
       "    <tr>\n",
       "      <th>2</th>\n",
       "      <td>0.608695</td>\n",
       "      <td>0.661399</td>\n",
       "      <td>-0.443019</td>\n",
       "      <td>0.772469</td>\n",
       "    </tr>\n",
       "    <tr>\n",
       "      <th>3</th>\n",
       "      <td>-1.495632</td>\n",
       "      <td>0.824199</td>\n",
       "      <td>-0.443712</td>\n",
       "      <td>-0.193638</td>\n",
       "    </tr>\n",
       "    <tr>\n",
       "      <th>4</th>\n",
       "      <td>2.657712</td>\n",
       "      <td>0.719572</td>\n",
       "      <td>-0.461571</td>\n",
       "      <td>-1.146433</td>\n",
       "    </tr>\n",
       "    <tr>\n",
       "      <th>5</th>\n",
       "      <td>0.002410</td>\n",
       "      <td>0.500471</td>\n",
       "      <td>-0.758575</td>\n",
       "      <td>-1.684097</td>\n",
       "    </tr>\n",
       "    <tr>\n",
       "      <th>6</th>\n",
       "      <td>-0.725515</td>\n",
       "      <td>-1.003608</td>\n",
       "      <td>0.418787</td>\n",
       "      <td>0.912734</td>\n",
       "    </tr>\n",
       "    <tr>\n",
       "      <th>7</th>\n",
       "      <td>2.452266</td>\n",
       "      <td>0.994744</td>\n",
       "      <td>-1.526585</td>\n",
       "      <td>-1.899873</td>\n",
       "    </tr>\n",
       "  </tbody>\n",
       "</table>\n",
       "</div>"
      ],
      "text/plain": [
       "          A         B         C         D\n",
       "0 -0.283870 -0.829192  1.346998  0.125322\n",
       "1  1.938847 -0.293333  0.129289 -0.983380\n",
       "2  0.608695  0.661399 -0.443019  0.772469\n",
       "3 -1.495632  0.824199 -0.443712 -0.193638\n",
       "4  2.657712  0.719572 -0.461571 -1.146433\n",
       "5  0.002410  0.500471 -0.758575 -1.684097\n",
       "6 -0.725515 -1.003608  0.418787  0.912734\n",
       "7  2.452266  0.994744 -1.526585 -1.899873"
      ]
     },
     "execution_count": 17,
     "metadata": {},
     "output_type": "execute_result"
    }
   ],
   "source": [
    "#ADICIONANDO UM ELEMENTO AO DATAFRAME\n",
    "df = pd.DataFrame(np.random.randn(8,4), columns=['A', 'B', 'C', 'D'])\n",
    "df"
   ]
  },
  {
   "cell_type": "code",
   "execution_count": 21,
   "metadata": {
    "collapsed": false
   },
   "outputs": [
    {
     "data": {
      "text/html": [
       "<div>\n",
       "<table border=\"1\" class=\"dataframe\">\n",
       "  <thead>\n",
       "    <tr style=\"text-align: right;\">\n",
       "      <th></th>\n",
       "      <th>A</th>\n",
       "      <th>B</th>\n",
       "      <th>C</th>\n",
       "      <th>D</th>\n",
       "    </tr>\n",
       "  </thead>\n",
       "  <tbody>\n",
       "    <tr>\n",
       "      <th>0</th>\n",
       "      <td>-0.283870</td>\n",
       "      <td>-0.829192</td>\n",
       "      <td>1.346998</td>\n",
       "      <td>0.125322</td>\n",
       "    </tr>\n",
       "    <tr>\n",
       "      <th>1</th>\n",
       "      <td>1.938847</td>\n",
       "      <td>-0.293333</td>\n",
       "      <td>0.129289</td>\n",
       "      <td>-0.983380</td>\n",
       "    </tr>\n",
       "    <tr>\n",
       "      <th>2</th>\n",
       "      <td>0.608695</td>\n",
       "      <td>0.661399</td>\n",
       "      <td>-0.443019</td>\n",
       "      <td>0.772469</td>\n",
       "    </tr>\n",
       "    <tr>\n",
       "      <th>3</th>\n",
       "      <td>-1.495632</td>\n",
       "      <td>0.824199</td>\n",
       "      <td>-0.443712</td>\n",
       "      <td>-0.193638</td>\n",
       "    </tr>\n",
       "    <tr>\n",
       "      <th>4</th>\n",
       "      <td>2.657712</td>\n",
       "      <td>0.719572</td>\n",
       "      <td>-0.461571</td>\n",
       "      <td>-1.146433</td>\n",
       "    </tr>\n",
       "    <tr>\n",
       "      <th>5</th>\n",
       "      <td>0.002410</td>\n",
       "      <td>0.500471</td>\n",
       "      <td>-0.758575</td>\n",
       "      <td>-1.684097</td>\n",
       "    </tr>\n",
       "    <tr>\n",
       "      <th>6</th>\n",
       "      <td>-0.725515</td>\n",
       "      <td>-1.003608</td>\n",
       "      <td>0.418787</td>\n",
       "      <td>0.912734</td>\n",
       "    </tr>\n",
       "    <tr>\n",
       "      <th>7</th>\n",
       "      <td>2.452266</td>\n",
       "      <td>0.994744</td>\n",
       "      <td>-1.526585</td>\n",
       "      <td>-1.899873</td>\n",
       "    </tr>\n",
       "    <tr>\n",
       "      <th>8</th>\n",
       "      <td>-1.495632</td>\n",
       "      <td>0.824199</td>\n",
       "      <td>-0.443712</td>\n",
       "      <td>-0.193638</td>\n",
       "    </tr>\n",
       "  </tbody>\n",
       "</table>\n",
       "</div>"
      ],
      "text/plain": [
       "          A         B         C         D\n",
       "0 -0.283870 -0.829192  1.346998  0.125322\n",
       "1  1.938847 -0.293333  0.129289 -0.983380\n",
       "2  0.608695  0.661399 -0.443019  0.772469\n",
       "3 -1.495632  0.824199 -0.443712 -0.193638\n",
       "4  2.657712  0.719572 -0.461571 -1.146433\n",
       "5  0.002410  0.500471 -0.758575 -1.684097\n",
       "6 -0.725515 -1.003608  0.418787  0.912734\n",
       "7  2.452266  0.994744 -1.526585 -1.899873\n",
       "8 -1.495632  0.824199 -0.443712 -0.193638"
      ]
     },
     "execution_count": 21,
     "metadata": {},
     "output_type": "execute_result"
    }
   ],
   "source": [
    "#CRIANDO UM OUTRO DATAFRAME E ADICIONANDO NO FINAL DE OUTRO DATAFRAME ATRAVES DE: append()\n",
    "s =  df.iloc[3]\n",
    "df.append(s, ignore_index=True)"
   ]
  },
  {
   "cell_type": "code",
   "execution_count": null,
   "metadata": {
    "collapsed": true
   },
   "outputs": [],
   "source": []
  }
 ],
 "metadata": {
  "kernelspec": {
   "display_name": "Python 3",
   "language": "python",
   "name": "python3"
  },
  "language_info": {
   "codemirror_mode": {
    "name": "ipython",
    "version": 3
   },
   "file_extension": ".py",
   "mimetype": "text/x-python",
   "name": "python",
   "nbconvert_exporter": "python",
   "pygments_lexer": "ipython3",
   "version": "3.6.0"
  }
 },
 "nbformat": 4,
 "nbformat_minor": 2
}
