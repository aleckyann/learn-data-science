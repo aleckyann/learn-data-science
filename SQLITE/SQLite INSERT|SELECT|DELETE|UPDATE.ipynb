{
 "cells": [
  {
   "cell_type": "code",
   "execution_count": 30,
   "metadata": {
    "collapsed": true
   },
   "outputs": [],
   "source": [
    "import sqlite3\n",
    "import random\n",
    "import time\n",
    "import datetime\n",
    "\n",
    "conn = sqlite3.connect('dsa.db')\n",
    "\n",
    "c = conn.cursor()"
   ]
  },
  {
   "cell_type": "code",
   "execution_count": 22,
   "metadata": {
    "collapsed": true
   },
   "outputs": [],
   "source": [
    "def create_table():\n",
    "    c.execute('CREATE TABLE IF NOT EXISTS produtos (id INTEGER PRIMARY KEY AUTOINCREMENT NOT NULL, date TEXT, prod_name TEXT, valor REAL)')\n",
    "\n",
    "def data_insert():\n",
    "    c.execute(\"INSERT INTO produtos VALUES (10, '2017-05-02 14:32:10', 'Teclado', 90)\")\n",
    "    conn.commit()\n",
    "    c.close()\n",
    "    conn.close()\n",
    "\n",
    "def data_insert_var():\n",
    "    new_date = datetime.datetime.now()\n",
    "    new_prod_name = 'Monitor'\n",
    "    new_valor = random.randrange(50, 100)\n",
    "    c.execute('INSERT INTO produtos (date, prod_name, valor) VALUES (?, ?, ?)', (new_date, new_prod_name, new_valor))\n",
    "    conn.commit()"
   ]
  },
  {
   "cell_type": "code",
   "execution_count": 15,
   "metadata": {
    "collapsed": false
   },
   "outputs": [],
   "source": [
    "# Gerando valores e inserindo na tabela\n",
    "for i in range(10):\n",
    "    data_insert_var()\n",
    "    time.sleep(1)"
   ]
  },
  {
   "cell_type": "code",
   "execution_count": 28,
   "metadata": {
    "collapsed": true
   },
   "outputs": [],
   "source": [
    "c.close()\n",
    "conn.close()"
   ]
  },
  {
   "cell_type": "code",
   "execution_count": 26,
   "metadata": {
    "collapsed": true
   },
   "outputs": [],
   "source": [
    "def leitura_todos_dados():\n",
    "    c.execute('SELECT * FROM produtos')\n",
    "    for linha in c.fetchall():\n",
    "        print(linha)\n",
    "        \n",
    "def leitura_registros():\n",
    "    c.execute('SELECT * FROM produtos WHERE valor > 60.0')\n",
    "    for linha in c.fetchall():\n",
    "        print(linha)\n",
    "    \n",
    "def leitura_colunas():\n",
    "    c.execute('SELECT * FROM produtos')\n",
    "    for linha in c.fetchall():\n",
    "        print(linha[3])"
   ]
  },
  {
   "cell_type": "code",
   "execution_count": 24,
   "metadata": {
    "collapsed": false
   },
   "outputs": [
    {
     "name": "stdout",
     "output_type": "stream",
     "text": [
      "(10, '2017-05-02 14:32:10', 'Teclado', 90.0)\n",
      "(11, '2017-05-08 19:10:45.862244', 'Monitor', 74.0)\n",
      "(12, '2017-05-08 19:10:46.997939', 'Monitor', 96.0)\n",
      "(13, '2017-05-08 19:10:48.093718', 'Monitor', 65.0)\n",
      "(14, '2017-05-08 19:10:49.145622', 'Monitor', 73.0)\n",
      "(15, '2017-05-08 19:10:50.208221', 'Monitor', 77.0)\n",
      "(16, '2017-05-08 19:10:51.270984', 'Monitor', 72.0)\n",
      "(17, '2017-05-08 19:10:52.344716', 'Monitor', 54.0)\n",
      "(18, '2017-05-08 19:10:53.407395', 'Monitor', 89.0)\n",
      "(19, '2017-05-08 19:10:54.459024', 'Monitor', 64.0)\n",
      "(20, '2017-05-08 19:10:55.521747', 'Monitor', 65.0)\n",
      "(21, '2017-05-08 19:11:24.495609', 'Monitor', 55.0)\n",
      "(22, '2017-05-08 19:11:25.612934', 'Monitor', 94.0)\n",
      "(23, '2017-05-08 19:11:26.661480', 'Monitor', 80.0)\n",
      "(24, '2017-05-08 19:11:27.713189', 'Monitor', 54.0)\n",
      "(25, '2017-05-08 19:11:28.764778', 'Monitor', 93.0)\n",
      "(26, '2017-05-08 19:11:29.816389', 'Monitor', 65.0)\n",
      "(27, '2017-05-08 19:11:30.868105', 'Monitor', 87.0)\n",
      "(28, '2017-05-08 19:11:31.919681', 'Monitor', 58.0)\n",
      "(29, '2017-05-08 19:11:32.993033', 'Monitor', 92.0)\n",
      "(30, '2017-05-08 19:11:34.045397', 'Monitor', 76.0)\n"
     ]
    }
   ],
   "source": [
    "leitura_todos_dados()"
   ]
  },
  {
   "cell_type": "code",
   "execution_count": 25,
   "metadata": {
    "collapsed": false
   },
   "outputs": [
    {
     "name": "stdout",
     "output_type": "stream",
     "text": [
      "(10, '2017-05-02 14:32:10', 'Teclado', 90.0)\n",
      "(11, '2017-05-08 19:10:45.862244', 'Monitor', 74.0)\n",
      "(12, '2017-05-08 19:10:46.997939', 'Monitor', 96.0)\n",
      "(13, '2017-05-08 19:10:48.093718', 'Monitor', 65.0)\n",
      "(14, '2017-05-08 19:10:49.145622', 'Monitor', 73.0)\n",
      "(15, '2017-05-08 19:10:50.208221', 'Monitor', 77.0)\n",
      "(16, '2017-05-08 19:10:51.270984', 'Monitor', 72.0)\n",
      "(18, '2017-05-08 19:10:53.407395', 'Monitor', 89.0)\n",
      "(19, '2017-05-08 19:10:54.459024', 'Monitor', 64.0)\n",
      "(20, '2017-05-08 19:10:55.521747', 'Monitor', 65.0)\n",
      "(22, '2017-05-08 19:11:25.612934', 'Monitor', 94.0)\n",
      "(23, '2017-05-08 19:11:26.661480', 'Monitor', 80.0)\n",
      "(25, '2017-05-08 19:11:28.764778', 'Monitor', 93.0)\n",
      "(26, '2017-05-08 19:11:29.816389', 'Monitor', 65.0)\n",
      "(27, '2017-05-08 19:11:30.868105', 'Monitor', 87.0)\n",
      "(29, '2017-05-08 19:11:32.993033', 'Monitor', 92.0)\n",
      "(30, '2017-05-08 19:11:34.045397', 'Monitor', 76.0)\n"
     ]
    }
   ],
   "source": [
    "leitura_registros()"
   ]
  },
  {
   "cell_type": "code",
   "execution_count": 27,
   "metadata": {
    "collapsed": false
   },
   "outputs": [
    {
     "name": "stdout",
     "output_type": "stream",
     "text": [
      "90.0\n",
      "74.0\n",
      "96.0\n",
      "65.0\n",
      "73.0\n",
      "77.0\n",
      "72.0\n",
      "54.0\n",
      "89.0\n",
      "64.0\n",
      "65.0\n",
      "55.0\n",
      "94.0\n",
      "80.0\n",
      "54.0\n",
      "93.0\n",
      "65.0\n",
      "87.0\n",
      "58.0\n",
      "92.0\n",
      "76.0\n"
     ]
    }
   ],
   "source": [
    "leitura_colunas()"
   ]
  },
  {
   "cell_type": "code",
   "execution_count": 38,
   "metadata": {
    "collapsed": true
   },
   "outputs": [],
   "source": [
    "def atualiza_dados():\n",
    "    c.execute('UPDATE produtos SET valor = 70 WHERE valor = 80')\n",
    "    conn.commit()\n",
    "\n",
    "def remove_dados():\n",
    "    c.execute('DELETE FROM produtos WHERE valor > 65.0')\n",
    "    conn.commit()"
   ]
  },
  {
   "cell_type": "code",
   "execution_count": 31,
   "metadata": {
    "collapsed": true
   },
   "outputs": [],
   "source": [
    "atualiza_dados()"
   ]
  },
  {
   "cell_type": "code",
   "execution_count": 40,
   "metadata": {
    "collapsed": false
   },
   "outputs": [
    {
     "name": "stdout",
     "output_type": "stream",
     "text": [
      "(17, '2017-05-08 19:10:52.344716', 'Monitor', 54.0)\n",
      "(19, '2017-05-08 19:10:54.459024', 'Monitor', 64.0)\n",
      "(21, '2017-05-08 19:11:24.495609', 'Monitor', 55.0)\n",
      "(24, '2017-05-08 19:11:27.713189', 'Monitor', 54.0)\n",
      "(28, '2017-05-08 19:11:31.919681', 'Monitor', 58.0)\n"
     ]
    }
   ],
   "source": [
    "leitura_todos_dados()"
   ]
  },
  {
   "cell_type": "code",
   "execution_count": 39,
   "metadata": {
    "collapsed": false
   },
   "outputs": [],
   "source": [
    "remove_dados()"
   ]
  },
  {
   "cell_type": "code",
   "execution_count": null,
   "metadata": {
    "collapsed": true
   },
   "outputs": [],
   "source": []
  }
 ],
 "metadata": {
  "kernelspec": {
   "display_name": "Python 3",
   "language": "python",
   "name": "python3"
  },
  "language_info": {
   "codemirror_mode": {
    "name": "ipython",
    "version": 3
   },
   "file_extension": ".py",
   "mimetype": "text/x-python",
   "name": "python",
   "nbconvert_exporter": "python",
   "pygments_lexer": "ipython3",
   "version": "3.6.0"
  }
 },
 "nbformat": 4,
 "nbformat_minor": 2
}
