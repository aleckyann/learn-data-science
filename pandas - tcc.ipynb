{
 "cells": [
  {
   "cell_type": "code",
   "execution_count": null,
   "metadata": {
    "collapsed": true
   },
   "outputs": [],
   "source": [
    "import pandas as pd"
   ]
  },
  {
   "cell_type": "code",
   "execution_count": 2,
   "metadata": {
    "collapsed": true
   },
   "outputs": [],
   "source": [
    "dataset = pd.read_csv('https://d37djvu3ytnwxt.cloudfront.net/assets/courseware/v1/a82decf06328a8b4f666f23a1f280db1/c4x/HarvardX/PH207x/asset/handouts_fhs.csv')"
   ]
  },
  {
   "cell_type": "code",
   "execution_count": 43,
   "metadata": {
    "collapsed": false
   },
   "outputs": [
    {
     "name": "stdout",
     "output_type": "stream",
     "text": [
      "HOMENS: 1944\n",
      "MULHERES: 2490\n"
     ]
    }
   ],
   "source": [
    "homens = 0\n",
    "mulheres = 0\n",
    "for set in dataset['sex1']:\n",
    "    if set == 'Male':\n",
    "        homens += 1\n",
    "    else :\n",
    "        mulheres += 1\n",
    "print('HOMENS: %d' %homens)\n",
    "print('MULHERES: %d' %mulheres)"
   ]
  },
  {
   "cell_type": "code",
   "execution_count": 36,
   "metadata": {
    "collapsed": false
   },
   "outputs": [
    {
     "data": {
      "text/plain": [
       "0         Male\n",
       "1       Female\n",
       "2         Male\n",
       "3       Female\n",
       "4       Female\n",
       "5       Female\n",
       "6       Female\n",
       "7       Female\n",
       "8         Male\n",
       "9         Male\n",
       "10      Female\n",
       "11      Female\n",
       "12        Male\n",
       "13      Female\n",
       "14      Female\n",
       "15      Female\n",
       "16        Male\n",
       "17      Female\n",
       "18      Female\n",
       "19        Male\n",
       "20      Female\n",
       "21      Female\n",
       "22      Female\n",
       "23      Female\n",
       "24        Male\n",
       "25        Male\n",
       "26      Female\n",
       "27        Male\n",
       "28      Female\n",
       "29      Female\n",
       "         ...  \n",
       "4404      Male\n",
       "4405      Male\n",
       "4406      Male\n",
       "4407    Female\n",
       "4408    Female\n",
       "4409    Female\n",
       "4410    Female\n",
       "4411    Female\n",
       "4412      Male\n",
       "4413      Male\n",
       "4414      Male\n",
       "4415      Male\n",
       "4416      Male\n",
       "4417      Male\n",
       "4418      Male\n",
       "4419      Male\n",
       "4420      Male\n",
       "4421      Male\n",
       "4422    Female\n",
       "4423    Female\n",
       "4424    Female\n",
       "4425      Male\n",
       "4426      Male\n",
       "4427      Male\n",
       "4428      Male\n",
       "4429    Female\n",
       "4430    Female\n",
       "4431    Female\n",
       "4432      Male\n",
       "4433    Female\n",
       "Name: sex1, dtype: object"
      ]
     },
     "execution_count": 36,
     "metadata": {},
     "output_type": "execute_result"
    }
   ],
   "source": [
    "dataset['sex1']"
   ]
  },
  {
   "cell_type": "code",
   "execution_count": 45,
   "metadata": {
    "collapsed": true
   },
   "outputs": [],
   "source": [
    "lista = []"
   ]
  },
  {
   "cell_type": "code",
   "execution_count": 47,
   "metadata": {
    "collapsed": false
   },
   "outputs": [],
   "source": [
    "paciente1 = {'Sexo': 'Male', 'Idade': 22, 'Angina': 'Yes'}"
   ]
  },
  {
   "cell_type": "code",
   "execution_count": 48,
   "metadata": {
    "collapsed": true
   },
   "outputs": [],
   "source": [
    "lista.append(paciente1)"
   ]
  },
  {
   "cell_type": "code",
   "execution_count": 49,
   "metadata": {
    "collapsed": false
   },
   "outputs": [
    {
     "data": {
      "text/plain": [
       "[{'Angina': 'Yes', 'Idade': 22, 'Sexo': 'Male'}]"
      ]
     },
     "execution_count": 49,
     "metadata": {},
     "output_type": "execute_result"
    }
   ],
   "source": [
    "lista"
   ]
  },
  {
   "cell_type": "code",
   "execution_count": 50,
   "metadata": {
    "collapsed": true
   },
   "outputs": [],
   "source": [
    "import json"
   ]
  },
  {
   "cell_type": "code",
   "execution_count": 52,
   "metadata": {
    "collapsed": false
   },
   "outputs": [
    {
     "data": {
      "text/plain": [
       "'[{\"Sexo\": \"Male\", \"Idade\": 22, \"Angina\": \"Yes\"}]'"
      ]
     },
     "execution_count": 52,
     "metadata": {},
     "output_type": "execute_result"
    }
   ],
   "source": [
    "json.dumps(lista)"
   ]
  },
  {
   "cell_type": "code",
   "execution_count": null,
   "metadata": {
    "collapsed": true
   },
   "outputs": [],
   "source": []
  }
 ],
 "metadata": {
  "kernelspec": {
   "display_name": "Python 3",
   "language": "python",
   "name": "python3"
  },
  "language_info": {
   "codemirror_mode": {
    "name": "ipython",
    "version": 3
   },
   "file_extension": ".py",
   "mimetype": "text/x-python",
   "name": "python",
   "nbconvert_exporter": "python",
   "pygments_lexer": "ipython3",
   "version": "3.6.0"
  }
 },
 "nbformat": 4,
 "nbformat_minor": 2
}
