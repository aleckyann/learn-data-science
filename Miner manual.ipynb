{
 "cells": [
  {
   "cell_type": "code",
   "execution_count": 1,
   "metadata": {
    "collapsed": true
   },
   "outputs": [],
   "source": [
    "import io\n",
    "import sys\n",
    "import urllib.request as request"
   ]
  },
  {
   "cell_type": "code",
   "execution_count": 5,
   "metadata": {
    "collapsed": false
   },
   "outputs": [],
   "source": [
    "def main():\n",
    "    response = request.urlopen(sys.argv[1])\n",
    "    out_file = io.FileIO('saida.zip', mode='w')\n",
    "    \n",
    "    content_length = response.getheader('Content-Lenght')\n",
    "    if content_length:\n",
    "        length = int(content_length)\n",
    "        download_length(response, out_file, length)\n",
    "    else:\n",
    "        download(response, out_file)\n",
    "    \n",
    "    response.close()\n",
    "    out_file.close()\n",
    "    print('Finished!')\n",
    "    \n",
    "if __name__ == '__name__':\n",
    "    main()"
   ]
  },
  {
   "cell_type": "code",
   "execution_count": null,
   "metadata": {
    "collapsed": true
   },
   "outputs": [],
   "source": []
  }
 ],
 "metadata": {
  "kernelspec": {
   "display_name": "Python 3",
   "language": "python",
   "name": "python3"
  },
  "language_info": {
   "codemirror_mode": {
    "name": "ipython",
    "version": 3
   },
   "file_extension": ".py",
   "mimetype": "text/x-python",
   "name": "python",
   "nbconvert_exporter": "python",
   "pygments_lexer": "ipython3",
   "version": "3.6.0"
  }
 },
 "nbformat": 4,
 "nbformat_minor": 2
}
