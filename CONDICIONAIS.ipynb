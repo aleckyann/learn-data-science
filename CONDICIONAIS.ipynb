{
 "cells": [
  {
   "cell_type": "markdown",
   "metadata": {},
   "source": [
    "<center><h1>CONDICIONAIS"
   ]
  },
  {
   "cell_type": "markdown",
   "metadata": {},
   "source": [
    "---\n",
    "Operadores lógicos\n",
    "---\n",
    "<table>\n",
    "    <tr>\n",
    "        <th>Operador</th>\n",
    "        <th>significado</th>\n",
    "    </tr>\n",
    "\n",
    "    <tr>\n",
    "        <td>and</td>\n",
    "        <td>e</td>\n",
    "    </tr>\n",
    "    <tr>\n",
    "        <td>or</td>\n",
    "        <td>ou</td>\n",
    "    </tr>\n",
    "    <tr>\n",
    "        <td>not</td>\n",
    "        <td>não</td>\n",
    "    </tr>\n",
    "</table>\n"
   ]
  },
  {
   "cell_type": "code",
   "execution_count": 31,
   "metadata": {
    "collapsed": false
   },
   "outputs": [
    {
     "data": {
      "text/plain": [
       "3"
      ]
     },
     "execution_count": 31,
     "metadata": {},
     "output_type": "execute_result"
    }
   ],
   "source": [
    "linguagens = ['Python', 'PHP', 'JavaScript']\n",
    "len(linguagens)"
   ]
  },
  {
   "cell_type": "code",
   "execution_count": 22,
   "metadata": {
    "collapsed": false
   },
   "outputs": [
    {
     "name": "stdout",
     "output_type": "stream",
     "text": [
      "não é > 1 e < 3\n"
     ]
    }
   ],
   "source": [
    "if len(linguagens) > 1 and len(linguagens) < 3:\n",
    "    print('é > 1 e < 3')\n",
    "else:\n",
    "    print('não é > 1 e < 3')"
   ]
  },
  {
   "cell_type": "code",
   "execution_count": 23,
   "metadata": {
    "collapsed": false
   },
   "outputs": [
    {
     "name": "stdout",
     "output_type": "stream",
     "text": [
      "é > 1 ou < 3\n"
     ]
    }
   ],
   "source": [
    "if len(linguagens) > 1 or len(linguagens) < 3:\n",
    "    print('é > 1 ou < 3')\n",
    "else:\n",
    "    print('não é > 1 ou < 3')"
   ]
  },
  {
   "cell_type": "code",
   "execution_count": 24,
   "metadata": {
    "collapsed": false
   },
   "outputs": [
    {
     "name": "stdout",
     "output_type": "stream",
     "text": [
      "não é > 1 e < 3\n"
     ]
    }
   ],
   "source": [
    "if len(linguagens) > 1 or len(linguagens) < 3:\n",
    "    print('não é > 1 e < 3')\n",
    "else:\n",
    "    print('é > 1 e < 3')"
   ]
  },
  {
   "cell_type": "markdown",
   "metadata": {},
   "source": [
    "Operador ternário\n",
    "---\n",
    "    Condições if e else em uma linha"
   ]
  },
  {
   "cell_type": "code",
   "execution_count": 6,
   "metadata": {
    "collapsed": false
   },
   "outputs": [
    {
     "name": "stdout",
     "output_type": "stream",
     "text": [
      "preço:22\n"
     ]
    }
   ],
   "source": [
    "preço = float(input('preço:'))"
   ]
  },
  {
   "cell_type": "code",
   "execution_count": 7,
   "metadata": {
    "collapsed": false
   },
   "outputs": [
    {
     "data": {
      "text/plain": [
       "'Barato'"
      ]
     },
     "execution_count": 7,
     "metadata": {},
     "output_type": "execute_result"
    }
   ],
   "source": [
    "'Caro' if preço > 100 else 'Barato'"
   ]
  },
  {
   "cell_type": "code",
   "execution_count": 8,
   "metadata": {
    "collapsed": true
   },
   "outputs": [],
   "source": [
    "classificação = 'Caro' if preço > 100 else 'Barato'"
   ]
  },
  {
   "cell_type": "code",
   "execution_count": 9,
   "metadata": {
    "collapsed": false
   },
   "outputs": [
    {
     "data": {
      "text/plain": [
       "'Barato'"
      ]
     },
     "execution_count": 9,
     "metadata": {},
     "output_type": "execute_result"
    }
   ],
   "source": [
    "classificação"
   ]
  },
  {
   "cell_type": "markdown",
   "metadata": {
    "collapsed": true
   },
   "source": [
    "---\n",
    "while\n",
    "---"
   ]
  },
  {
   "cell_type": "code",
   "execution_count": 35,
   "metadata": {
    "collapsed": false
   },
   "outputs": [
    {
     "name": "stdout",
     "output_type": "stream",
     "text": [
      "['linguagem 0']\n",
      "['linguagem 0', 'linguagem 1']\n",
      "['linguagem 0', 'linguagem 1', 'linguagem 2']\n",
      "['linguagem 0', 'linguagem 1', 'linguagem 2', 'linguagem 3']\n",
      "['linguagem 0', 'linguagem 1', 'linguagem 2', 'linguagem 3', 'linguagem 4']\n",
      "['linguagem 0', 'linguagem 1', 'linguagem 2', 'linguagem 3', 'linguagem 4', 'linguagem 5']\n"
     ]
    }
   ],
   "source": [
    "lista_de_linguagens = []\n",
    "while len(lista_de_linguagens) <= 5:\n",
    "    lista_de_linguagens.append('linguagem {linguagem}'.format(linguagem=len(lista_de_linguagens)))\n",
    "    print(lista_de_linguagens)    "
   ]
  },
  {
   "cell_type": "code",
   "execution_count": null,
   "metadata": {
    "collapsed": true
   },
   "outputs": [],
   "source": []
  }
 ],
 "metadata": {
  "kernelspec": {
   "display_name": "Python 3",
   "language": "python",
   "name": "python3"
  },
  "language_info": {
   "codemirror_mode": {
    "name": "ipython",
    "version": 3
   },
   "file_extension": ".py",
   "mimetype": "text/x-python",
   "name": "python",
   "nbconvert_exporter": "python",
   "pygments_lexer": "ipython3",
   "version": "3.6.0"
  }
 },
 "nbformat": 4,
 "nbformat_minor": 2
}
