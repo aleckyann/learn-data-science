{
 "cells": [
  {
   "cell_type": "code",
   "execution_count": 3,
   "metadata": {
    "collapsed": false
   },
   "outputs": [],
   "source": [
    "import pymongo"
   ]
  },
  {
   "cell_type": "code",
   "execution_count": 4,
   "metadata": {
    "collapsed": true
   },
   "outputs": [],
   "source": [
    "#Criando conexão padrão com mongoDB\n",
    "client_con = pymongo.MongoClient()"
   ]
  },
  {
   "cell_type": "code",
   "execution_count": 5,
   "metadata": {
    "collapsed": false
   },
   "outputs": [
    {
     "data": {
      "text/plain": [
       "['admin', 'cadastrodb', 'local']"
      ]
     },
     "execution_count": 5,
     "metadata": {},
     "output_type": "execute_result"
    }
   ],
   "source": [
    "#Listando os bancos de dados disponíveis\n",
    "client_con.database_names()"
   ]
  },
  {
   "cell_type": "code",
   "execution_count": 7,
   "metadata": {
    "collapsed": true
   },
   "outputs": [],
   "source": [
    "#Definindo um objeto DB para gerenciar um DB\n",
    "db = client_con.cadastrodb"
   ]
  },
  {
   "cell_type": "code",
   "execution_count": 8,
   "metadata": {
    "collapsed": false
   },
   "outputs": [
    {
     "data": {
      "text/plain": [
       "['posts']"
      ]
     },
     "execution_count": 8,
     "metadata": {},
     "output_type": "execute_result"
    }
   ],
   "source": [
    "#Exibir as coleções(tabelas) disponíveis\n",
    "db.collection_names()"
   ]
  },
  {
   "cell_type": "code",
   "execution_count": 9,
   "metadata": {
    "collapsed": false
   },
   "outputs": [
    {
     "data": {
      "text/plain": [
       "Collection(Database(MongoClient(host=['localhost:27017'], document_class=dict, tz_aware=False, connect=True), 'cadastrodb'), 'mycollection')"
      ]
     },
     "execution_count": 9,
     "metadata": {},
     "output_type": "execute_result"
    }
   ],
   "source": [
    "#Criando uma coleção\n",
    "db.create_collection('mycollection')"
   ]
  },
  {
   "cell_type": "code",
   "execution_count": 10,
   "metadata": {
    "collapsed": false
   },
   "outputs": [
    {
     "data": {
      "text/plain": [
       "['mycollection', 'posts']"
      ]
     },
     "execution_count": 10,
     "metadata": {},
     "output_type": "execute_result"
    }
   ],
   "source": [
    "#Exibir as coleções(tabelas) disponíveis\n",
    "db.collection_names()"
   ]
  },
  {
   "cell_type": "code",
   "execution_count": 14,
   "metadata": {
    "collapsed": false
   },
   "outputs": [
    {
     "data": {
      "text/plain": [
       "<pymongo.results.InsertOneResult at 0x7effbc157120>"
      ]
     },
     "execution_count": 14,
     "metadata": {},
     "output_type": "execute_result"
    }
   ],
   "source": [
    "#Inserindo um documento na coleção\n",
    "db.mycollection.insert_one({'titulo':'MongoDB com python',\n",
    "                          'descricao':'MongoDB é um banco de dados NoSQL',\n",
    "                          'by':'Data Science Academy',\n",
    "                          'url':'https://datascienceacademy.com.br',\n",
    "                          'tags':['database', 'mongodb', 'nosql'],\n",
    "                          'likes':100})"
   ]
  },
  {
   "cell_type": "code",
   "execution_count": 15,
   "metadata": {
    "collapsed": false
   },
   "outputs": [
    {
     "data": {
      "text/plain": [
       "{'_id': ObjectId('59120e431a67ee155ea5de8a'),\n",
       " 'by': 'Data Science Academy',\n",
       " 'descricao': 'MongoDB é um banco de dados NoSQL',\n",
       " 'likes': 100,\n",
       " 'tags': ['database', 'mongodb', 'nosql'],\n",
       " 'titulo': 'MongoDB com python',\n",
       " 'url': 'https://datascienceacademy.com.br'}"
      ]
     },
     "execution_count": 15,
     "metadata": {},
     "output_type": "execute_result"
    }
   ],
   "source": [
    "#Retornando o documento criado\n",
    "db.mycollection.find_one()"
   ]
  },
  {
   "cell_type": "code",
   "execution_count": 16,
   "metadata": {
    "collapsed": true
   },
   "outputs": [],
   "source": [
    "doc1 = {'Nome':'Barack', 'sobrenome':'Obama', 'twiter':'@barack'}"
   ]
  },
  {
   "cell_type": "code",
   "execution_count": 17,
   "metadata": {
    "collapsed": false
   },
   "outputs": [
    {
     "data": {
      "text/plain": [
       "<pymongo.results.InsertOneResult at 0x7effbc157678>"
      ]
     },
     "execution_count": 17,
     "metadata": {},
     "output_type": "execute_result"
    }
   ],
   "source": [
    "#Inserindo um documento\n",
    "db.mycollection.insert_one(doc1)"
   ]
  },
  {
   "cell_type": "code",
   "execution_count": 18,
   "metadata": {
    "collapsed": true
   },
   "outputs": [],
   "source": [
    "doc2 = {'Site':'https://www.datascienceacademy.com.br','facebook':'facebook.com/dsacademybr'}"
   ]
  },
  {
   "cell_type": "code",
   "execution_count": 19,
   "metadata": {
    "collapsed": false
   },
   "outputs": [
    {
     "data": {
      "text/plain": [
       "<pymongo.results.InsertOneResult at 0x7effbc157828>"
      ]
     },
     "execution_count": 19,
     "metadata": {},
     "output_type": "execute_result"
    }
   ],
   "source": [
    "#Inserindo um documento\n",
    "db.mycollection.insert_one(doc2)"
   ]
  },
  {
   "cell_type": "code",
   "execution_count": 23,
   "metadata": {
    "collapsed": false
   },
   "outputs": [
    {
     "name": "stdout",
     "output_type": "stream",
     "text": [
      "{'_id': ObjectId('59120e431a67ee155ea5de8a'), 'titulo': 'MongoDB com python', 'descricao': 'MongoDB é um banco de dados NoSQL', 'by': 'Data Science Academy', 'url': 'https://datascienceacademy.com.br', 'tags': ['database', 'mongodb', 'nosql'], 'likes': 100}\n",
      "{'_id': ObjectId('59120ece1a67ee155ea5de8b'), 'Nome': 'Barack', 'sobrenome': 'Obama', 'twiter': '@barack'}\n",
      "{'_id': ObjectId('59120f1a1a67ee155ea5de8c'), 'Site': 'https://www.datascienceacademy.com.br', 'facebook': 'facebook.com/dsacademybr'}\n"
     ]
    }
   ],
   "source": [
    "for rec in db.mycollection.find():\n",
    "    print(rec)"
   ]
  },
  {
   "cell_type": "code",
   "execution_count": 24,
   "metadata": {
    "collapsed": true
   },
   "outputs": [],
   "source": [
    "# Conectando a uma coleção\n",
    "col = db['mycollection']"
   ]
  },
  {
   "cell_type": "code",
   "execution_count": 25,
   "metadata": {
    "collapsed": false
   },
   "outputs": [
    {
     "data": {
      "text/plain": [
       "3"
      ]
     },
     "execution_count": 25,
     "metadata": {},
     "output_type": "execute_result"
    }
   ],
   "source": [
    "#contando número de documento\n",
    "col.count()"
   ]
  },
  {
   "cell_type": "code",
   "execution_count": 27,
   "metadata": {
    "collapsed": false
   },
   "outputs": [],
   "source": [
    "#Encontrando um único documento na coleção\n",
    "redoc = col.find_one()"
   ]
  },
  {
   "cell_type": "code",
   "execution_count": 28,
   "metadata": {
    "collapsed": false
   },
   "outputs": [
    {
     "data": {
      "text/plain": [
       "{'_id': ObjectId('59120e431a67ee155ea5de8a'),\n",
       " 'by': 'Data Science Academy',\n",
       " 'descricao': 'MongoDB é um banco de dados NoSQL',\n",
       " 'likes': 100,\n",
       " 'tags': ['database', 'mongodb', 'nosql'],\n",
       " 'titulo': 'MongoDB com python',\n",
       " 'url': 'https://datascienceacademy.com.br'}"
      ]
     },
     "execution_count": 28,
     "metadata": {},
     "output_type": "execute_result"
    }
   ],
   "source": [
    "redoc"
   ]
  },
  {
   "cell_type": "code",
   "execution_count": null,
   "metadata": {
    "collapsed": true
   },
   "outputs": [],
   "source": []
  }
 ],
 "metadata": {
  "kernelspec": {
   "display_name": "Python 3",
   "language": "python",
   "name": "python3"
  },
  "language_info": {
   "codemirror_mode": {
    "name": "ipython",
    "version": 3
   },
   "file_extension": ".py",
   "mimetype": "text/x-python",
   "name": "python",
   "nbconvert_exporter": "python",
   "pygments_lexer": "ipython3",
   "version": "3.6.0"
  }
 },
 "nbformat": 4,
 "nbformat_minor": 2
}
