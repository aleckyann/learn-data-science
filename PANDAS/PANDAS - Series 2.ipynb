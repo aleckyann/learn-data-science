{
 "cells": [
  {
   "cell_type": "markdown",
   "metadata": {},
   "source": [
    "<center><h1>PANDAS<h1><center>"
   ]
  },
  {
   "cell_type": "code",
   "execution_count": 1,
   "metadata": {
    "collapsed": true
   },
   "outputs": [],
   "source": [
    "#IMPORTANDO PANDAS E NUMPY\n",
    "import pandas as pd\n",
    "import numpy as np"
   ]
  },
  {
   "cell_type": "markdown",
   "metadata": {},
   "source": [
    "---"
   ]
  },
  {
   "cell_type": "markdown",
   "metadata": {},
   "source": [
    "### Time Series"
   ]
  },
  {
   "cell_type": "code",
   "execution_count": 2,
   "metadata": {
    "collapsed": true
   },
   "outputs": [],
   "source": [
    "#CRIANDO UM RANGE DE DATAS COM FREQUENCIA DE SEGUNDOS\n",
    "rng = pd.date_range('1/1/2017', periods=50, freq='s')"
   ]
  },
  {
   "cell_type": "code",
   "execution_count": 3,
   "metadata": {
    "collapsed": false
   },
   "outputs": [
    {
     "data": {
      "text/plain": [
       "2017-01-01 00:00:00    449\n",
       "2017-01-01 00:00:01    274\n",
       "2017-01-01 00:00:02    156\n",
       "2017-01-01 00:00:03    416\n",
       "2017-01-01 00:00:04    192\n",
       "2017-01-01 00:00:05    482\n",
       "2017-01-01 00:00:06    463\n",
       "2017-01-01 00:00:07    277\n",
       "2017-01-01 00:00:08    391\n",
       "2017-01-01 00:00:09    111\n",
       "2017-01-01 00:00:10    480\n",
       "2017-01-01 00:00:11    177\n",
       "2017-01-01 00:00:12    487\n",
       "2017-01-01 00:00:13    208\n",
       "2017-01-01 00:00:14    468\n",
       "2017-01-01 00:00:15    462\n",
       "2017-01-01 00:00:16    434\n",
       "2017-01-01 00:00:17    251\n",
       "2017-01-01 00:00:18    100\n",
       "2017-01-01 00:00:19    339\n",
       "2017-01-01 00:00:20    426\n",
       "2017-01-01 00:00:21    153\n",
       "2017-01-01 00:00:22    429\n",
       "2017-01-01 00:00:23    407\n",
       "2017-01-01 00:00:24    313\n",
       "2017-01-01 00:00:25    318\n",
       "2017-01-01 00:00:26    371\n",
       "2017-01-01 00:00:27    473\n",
       "2017-01-01 00:00:28      9\n",
       "2017-01-01 00:00:29    393\n",
       "2017-01-01 00:00:30    335\n",
       "2017-01-01 00:00:31    475\n",
       "2017-01-01 00:00:32    118\n",
       "2017-01-01 00:00:33    261\n",
       "2017-01-01 00:00:34     21\n",
       "2017-01-01 00:00:35     92\n",
       "2017-01-01 00:00:36    439\n",
       "2017-01-01 00:00:37    497\n",
       "2017-01-01 00:00:38    247\n",
       "2017-01-01 00:00:39     70\n",
       "2017-01-01 00:00:40    242\n",
       "2017-01-01 00:00:41    312\n",
       "2017-01-01 00:00:42    121\n",
       "2017-01-01 00:00:43    457\n",
       "2017-01-01 00:00:44     82\n",
       "2017-01-01 00:00:45    450\n",
       "2017-01-01 00:00:46    343\n",
       "2017-01-01 00:00:47     29\n",
       "2017-01-01 00:00:48    322\n",
       "2017-01-01 00:00:49    270\n",
       "Freq: S, dtype: int64"
      ]
     },
     "execution_count": 3,
     "metadata": {},
     "output_type": "execute_result"
    }
   ],
   "source": [
    "#CRIANDO UMA SERIE DE DADOS CUJO INDICE SÃO AS DATAS CRIADAS\n",
    "ts = pd.Series(np.random.randint(0, 500, len(rng)), index=rng)\n",
    "ts"
   ]
  },
  {
   "cell_type": "markdown",
   "metadata": {},
   "source": [
    "---"
   ]
  },
  {
   "cell_type": "code",
   "execution_count": 5,
   "metadata": {
    "collapsed": false
   },
   "outputs": [],
   "source": [
    "#CRIANDO UM RANGE DE DATAS COM FREQUÊNCIA DE MESES\n",
    "rng = pd.date_range('1/1/2017', periods=5, freq='M')"
   ]
  },
  {
   "cell_type": "code",
   "execution_count": 6,
   "metadata": {
    "collapsed": false
   },
   "outputs": [
    {
     "data": {
      "text/plain": [
       "2017-01-31    1.138099\n",
       "2017-02-28    0.699502\n",
       "2017-03-31   -0.963959\n",
       "2017-04-30   -0.528584\n",
       "2017-05-31    1.453285\n",
       "Freq: M, dtype: float64"
      ]
     },
     "execution_count": 6,
     "metadata": {},
     "output_type": "execute_result"
    }
   ],
   "source": [
    "#CRIANDO UMA SERIE DE DADOS CUJO INDICE SÃO AS DATAS CRIADAS\n",
    "ts = pd.Series(np.random.randn(len(rng)), index=rng)\n",
    "ts"
   ]
  },
  {
   "cell_type": "code",
   "execution_count": null,
   "metadata": {
    "collapsed": true
   },
   "outputs": [],
   "source": []
  }
 ],
 "metadata": {
  "kernelspec": {
   "display_name": "Python 3",
   "language": "python",
   "name": "python3"
  },
  "language_info": {
   "codemirror_mode": {
    "name": "ipython",
    "version": 3
   },
   "file_extension": ".py",
   "mimetype": "text/x-python",
   "name": "python",
   "nbconvert_exporter": "python",
   "pygments_lexer": "ipython3",
   "version": "3.6.0"
  }
 },
 "nbformat": 4,
 "nbformat_minor": 2
}
