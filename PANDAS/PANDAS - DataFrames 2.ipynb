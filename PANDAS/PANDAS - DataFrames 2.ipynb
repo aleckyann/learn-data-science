{
 "cells": [
  {
   "cell_type": "markdown",
   "metadata": {},
   "source": [
    "<center><h1>PANDAS 2<h1><center>"
   ]
  },
  {
   "cell_type": "code",
   "execution_count": 1,
   "metadata": {
    "collapsed": true
   },
   "outputs": [],
   "source": [
    "#IMPORTANDO PANDAS E NUMPY\n",
    "import pandas as pd\n",
    "import numpy as np"
   ]
  },
  {
   "cell_type": "markdown",
   "metadata": {},
   "source": [
    "---"
   ]
  },
  {
   "cell_type": "code",
   "execution_count": 6,
   "metadata": {
    "collapsed": false
   },
   "outputs": [
    {
     "data": {
      "text/html": [
       "<div>\n",
       "<table border=\"1\" class=\"dataframe\">\n",
       "  <thead>\n",
       "    <tr style=\"text-align: right;\">\n",
       "      <th></th>\n",
       "      <th>Ano</th>\n",
       "      <th>Estado</th>\n",
       "      <th>População</th>\n",
       "      <th>Débito</th>\n",
       "    </tr>\n",
       "  </thead>\n",
       "  <tbody>\n",
       "    <tr>\n",
       "      <th>Um</th>\n",
       "      <td>2002</td>\n",
       "      <td>Santa Catarina</td>\n",
       "      <td>1.5</td>\n",
       "      <td>NaN</td>\n",
       "    </tr>\n",
       "    <tr>\n",
       "      <th>Dois</th>\n",
       "      <td>2003</td>\n",
       "      <td>Paraná</td>\n",
       "      <td>1.6</td>\n",
       "      <td>NaN</td>\n",
       "    </tr>\n",
       "    <tr>\n",
       "      <th>Três</th>\n",
       "      <td>2004</td>\n",
       "      <td>Minas Gerais</td>\n",
       "      <td>1.7</td>\n",
       "      <td>NaN</td>\n",
       "    </tr>\n",
       "    <tr>\n",
       "      <th>Quatro</th>\n",
       "      <td>2005</td>\n",
       "      <td>São Paulo</td>\n",
       "      <td>1.8</td>\n",
       "      <td>NaN</td>\n",
       "    </tr>\n",
       "    <tr>\n",
       "      <th>Cinco</th>\n",
       "      <td>2006</td>\n",
       "      <td>Rio de Janeiro</td>\n",
       "      <td>1.9</td>\n",
       "      <td>NaN</td>\n",
       "    </tr>\n",
       "    <tr>\n",
       "      <th>Seis</th>\n",
       "      <td>2007</td>\n",
       "      <td>Bahia</td>\n",
       "      <td>2.0</td>\n",
       "      <td>NaN</td>\n",
       "    </tr>\n",
       "  </tbody>\n",
       "</table>\n",
       "</div>"
      ],
      "text/plain": [
       "         Ano          Estado  População Débito\n",
       "Um      2002  Santa Catarina        1.5    NaN\n",
       "Dois    2003          Paraná        1.6    NaN\n",
       "Três    2004    Minas Gerais        1.7    NaN\n",
       "Quatro  2005       São Paulo        1.8    NaN\n",
       "Cinco   2006  Rio de Janeiro        1.9    NaN\n",
       "Seis    2007           Bahia        2.0    NaN"
      ]
     },
     "execution_count": 6,
     "metadata": {},
     "output_type": "execute_result"
    }
   ],
   "source": [
    "#CRIANDO DATAFRAME COM COLUNA SEM VALORES NA COLUNA: 'Débito'\n",
    "data = {'Estado': ['Santa Catarina', 'Paraná', 'Minas Gerais', 'São Paulo', 'Rio de Janeiro', 'Bahia'],\n",
    "       'Ano': [2002, 2003, 2004, 2005, 2006, 2007],\n",
    "       'População': [1.5, 1.6, 1.7, 1.8, 1.9, 2.0]}\n",
    "\n",
    "frame2 = pd.DataFrame(data, columns=['Ano','Estado','População','Débito'], index=['Um', 'Dois', 'Três', 'Quatro', 'Cinco', 'Seis'])\n",
    "frame2"
   ]
  },
  {
   "cell_type": "code",
   "execution_count": 10,
   "metadata": {
    "collapsed": false,
    "scrolled": true
   },
   "outputs": [
    {
     "data": {
      "text/html": [
       "<div>\n",
       "<table border=\"1\" class=\"dataframe\">\n",
       "  <thead>\n",
       "    <tr style=\"text-align: right;\">\n",
       "      <th></th>\n",
       "      <th>Ano</th>\n",
       "      <th>Estado</th>\n",
       "      <th>População</th>\n",
       "      <th>Débito</th>\n",
       "    </tr>\n",
       "  </thead>\n",
       "  <tbody>\n",
       "    <tr>\n",
       "      <th>Um</th>\n",
       "      <td>2002</td>\n",
       "      <td>Santa Catarina</td>\n",
       "      <td>1.5</td>\n",
       "      <td>0.0</td>\n",
       "    </tr>\n",
       "    <tr>\n",
       "      <th>Dois</th>\n",
       "      <td>2003</td>\n",
       "      <td>Paraná</td>\n",
       "      <td>1.6</td>\n",
       "      <td>1.0</td>\n",
       "    </tr>\n",
       "    <tr>\n",
       "      <th>Três</th>\n",
       "      <td>2004</td>\n",
       "      <td>Minas Gerais</td>\n",
       "      <td>1.7</td>\n",
       "      <td>2.0</td>\n",
       "    </tr>\n",
       "    <tr>\n",
       "      <th>Quatro</th>\n",
       "      <td>2005</td>\n",
       "      <td>São Paulo</td>\n",
       "      <td>1.8</td>\n",
       "      <td>3.0</td>\n",
       "    </tr>\n",
       "    <tr>\n",
       "      <th>Cinco</th>\n",
       "      <td>2006</td>\n",
       "      <td>Rio de Janeiro</td>\n",
       "      <td>1.9</td>\n",
       "      <td>4.0</td>\n",
       "    </tr>\n",
       "    <tr>\n",
       "      <th>Seis</th>\n",
       "      <td>2007</td>\n",
       "      <td>Bahia</td>\n",
       "      <td>2.0</td>\n",
       "      <td>5.0</td>\n",
       "    </tr>\n",
       "  </tbody>\n",
       "</table>\n",
       "</div>"
      ],
      "text/plain": [
       "         Ano          Estado  População  Débito\n",
       "Um      2002  Santa Catarina        1.5     0.0\n",
       "Dois    2003          Paraná        1.6     1.0\n",
       "Três    2004    Minas Gerais        1.7     2.0\n",
       "Quatro  2005       São Paulo        1.8     3.0\n",
       "Cinco   2006  Rio de Janeiro        1.9     4.0\n",
       "Seis    2007           Bahia        2.0     5.0"
      ]
     },
     "execution_count": 10,
     "metadata": {},
     "output_type": "execute_result"
    }
   ],
   "source": [
    "#UTILIZANDO NUMPY PARA POPULAR A COLUNA DÉBITO\n",
    "frame2['Débito'] = np.arange(6.)\n",
    "frame2"
   ]
  },
  {
   "cell_type": "code",
   "execution_count": 12,
   "metadata": {
    "collapsed": false
   },
   "outputs": [
    {
     "data": {
      "text/plain": [
       "array([[2002, 'Santa Catarina', 1.5, 0.0],\n",
       "       [2003, 'Paraná', 1.6, 1.0],\n",
       "       [2004, 'Minas Gerais', 1.7, 2.0],\n",
       "       [2005, 'São Paulo', 1.8, 3.0],\n",
       "       [2006, 'Rio de Janeiro', 1.9, 4.0],\n",
       "       [2007, 'Bahia', 2.0, 5.0]], dtype=object)"
      ]
     },
     "execution_count": 12,
     "metadata": {},
     "output_type": "execute_result"
    }
   ],
   "source": [
    "#IMPRIMINDO VALORES DE UMA COLUNA\n",
    "frame2.values"
   ]
  },
  {
   "cell_type": "code",
   "execution_count": 14,
   "metadata": {
    "collapsed": false
   },
   "outputs": [
    {
     "data": {
      "text/html": [
       "<div>\n",
       "<table border=\"1\" class=\"dataframe\">\n",
       "  <thead>\n",
       "    <tr style=\"text-align: right;\">\n",
       "      <th></th>\n",
       "      <th>Ano</th>\n",
       "      <th>População</th>\n",
       "      <th>Débito</th>\n",
       "    </tr>\n",
       "  </thead>\n",
       "  <tbody>\n",
       "    <tr>\n",
       "      <th>count</th>\n",
       "      <td>6.000000</td>\n",
       "      <td>6.000000</td>\n",
       "      <td>6.000000</td>\n",
       "    </tr>\n",
       "    <tr>\n",
       "      <th>mean</th>\n",
       "      <td>2004.500000</td>\n",
       "      <td>1.750000</td>\n",
       "      <td>2.500000</td>\n",
       "    </tr>\n",
       "    <tr>\n",
       "      <th>std</th>\n",
       "      <td>1.870829</td>\n",
       "      <td>0.187083</td>\n",
       "      <td>1.870829</td>\n",
       "    </tr>\n",
       "    <tr>\n",
       "      <th>min</th>\n",
       "      <td>2002.000000</td>\n",
       "      <td>1.500000</td>\n",
       "      <td>0.000000</td>\n",
       "    </tr>\n",
       "    <tr>\n",
       "      <th>25%</th>\n",
       "      <td>2003.250000</td>\n",
       "      <td>1.625000</td>\n",
       "      <td>1.250000</td>\n",
       "    </tr>\n",
       "    <tr>\n",
       "      <th>50%</th>\n",
       "      <td>2004.500000</td>\n",
       "      <td>1.750000</td>\n",
       "      <td>2.500000</td>\n",
       "    </tr>\n",
       "    <tr>\n",
       "      <th>75%</th>\n",
       "      <td>2005.750000</td>\n",
       "      <td>1.875000</td>\n",
       "      <td>3.750000</td>\n",
       "    </tr>\n",
       "    <tr>\n",
       "      <th>max</th>\n",
       "      <td>2007.000000</td>\n",
       "      <td>2.000000</td>\n",
       "      <td>5.000000</td>\n",
       "    </tr>\n",
       "  </tbody>\n",
       "</table>\n",
       "</div>"
      ],
      "text/plain": [
       "               Ano  População    Débito\n",
       "count     6.000000   6.000000  6.000000\n",
       "mean   2004.500000   1.750000  2.500000\n",
       "std       1.870829   0.187083  1.870829\n",
       "min    2002.000000   1.500000  0.000000\n",
       "25%    2003.250000   1.625000  1.250000\n",
       "50%    2004.500000   1.750000  2.500000\n",
       "75%    2005.750000   1.875000  3.750000\n",
       "max    2007.000000   2.000000  5.000000"
      ]
     },
     "execution_count": 14,
     "metadata": {},
     "output_type": "execute_result"
    }
   ],
   "source": [
    "#RESUMO DO DATAFRAME ATRAVÉS DO DESCRIBE (quantidade, média, desvio padrão, mínimos, quartis, máximos)\n",
    "frame2.describe()"
   ]
  },
  {
   "cell_type": "code",
   "execution_count": 15,
   "metadata": {
    "collapsed": false
   },
   "outputs": [
    {
     "data": {
      "text/plain": [
       "Ano            int64\n",
       "Estado        object\n",
       "População    float64\n",
       "Débito       float64\n",
       "dtype: object"
      ]
     },
     "execution_count": 15,
     "metadata": {},
     "output_type": "execute_result"
    }
   ],
   "source": [
    "#TIPOS DE DADOS DE UM DATASET\n",
    "frame2.dtypes"
   ]
  },
  {
   "cell_type": "code",
   "execution_count": 17,
   "metadata": {
    "collapsed": false
   },
   "outputs": [
    {
     "data": {
      "text/plain": [
       "Index(['Um', 'Dois', 'Três', 'Quatro', 'Cinco', 'Seis'], dtype='object')"
      ]
     },
     "execution_count": 17,
     "metadata": {},
     "output_type": "execute_result"
    }
   ],
   "source": [
    "#INDEX DO DATAFRAME\n",
    "frame2.index"
   ]
  },
  {
   "cell_type": "code",
   "execution_count": 19,
   "metadata": {
    "collapsed": false
   },
   "outputs": [
    {
     "data": {
      "text/plain": [
       "array([[2002, 'Santa Catarina', 1.5, 0.0],\n",
       "       [2003, 'Paraná', 1.6, 1.0],\n",
       "       [2004, 'Minas Gerais', 1.7, 2.0],\n",
       "       [2005, 'São Paulo', 1.8, 3.0],\n",
       "       [2006, 'Rio de Janeiro', 1.9, 4.0],\n",
       "       [2007, 'Bahia', 2.0, 5.0]], dtype=object)"
      ]
     },
     "execution_count": 19,
     "metadata": {},
     "output_type": "execute_result"
    }
   ],
   "source": [
    "#EXIBINDO VALORES DO DATASET\n",
    "frame2.values"
   ]
  },
  {
   "cell_type": "code",
   "execution_count": 20,
   "metadata": {
    "collapsed": false
   },
   "outputs": [
    {
     "data": {
      "text/plain": [
       "Index(['Ano', 'Estado', 'População', 'Débito'], dtype='object')"
      ]
     },
     "execution_count": 20,
     "metadata": {},
     "output_type": "execute_result"
    }
   ],
   "source": [
    "#EXIBINDO VALORES DAS COLUNAS\n",
    "frame2.columns"
   ]
  },
  {
   "cell_type": "code",
   "execution_count": 34,
   "metadata": {
    "collapsed": false
   },
   "outputs": [
    {
     "data": {
      "text/html": [
       "<div>\n",
       "<table border=\"1\" class=\"dataframe\">\n",
       "  <thead>\n",
       "    <tr style=\"text-align: right;\">\n",
       "      <th></th>\n",
       "      <th>Ano</th>\n",
       "      <th>Estado</th>\n",
       "      <th>População</th>\n",
       "      <th>Débito</th>\n",
       "    </tr>\n",
       "  </thead>\n",
       "  <tbody>\n",
       "    <tr>\n",
       "      <th>Um</th>\n",
       "      <td>2002</td>\n",
       "      <td>Santa Catarina</td>\n",
       "      <td>1.5</td>\n",
       "      <td>0.0</td>\n",
       "    </tr>\n",
       "    <tr>\n",
       "      <th>Dois</th>\n",
       "      <td>2003</td>\n",
       "      <td>Paraná</td>\n",
       "      <td>1.6</td>\n",
       "      <td>1.0</td>\n",
       "    </tr>\n",
       "    <tr>\n",
       "      <th>Três</th>\n",
       "      <td>2004</td>\n",
       "      <td>Minas Gerais</td>\n",
       "      <td>1.7</td>\n",
       "      <td>2.0</td>\n",
       "    </tr>\n",
       "  </tbody>\n",
       "</table>\n",
       "</div>"
      ],
      "text/plain": [
       "       Ano          Estado  População  Débito\n",
       "Um    2002  Santa Catarina        1.5     0.0\n",
       "Dois  2003          Paraná        1.6     1.0\n",
       "Três  2004    Minas Gerais        1.7     2.0"
      ]
     },
     "execution_count": 34,
     "metadata": {},
     "output_type": "execute_result"
    }
   ],
   "source": [
    "#SLICE-DICE DE VALORES DO DATAFRAME\n",
    "frame2[:3]"
   ]
  },
  {
   "cell_type": "code",
   "execution_count": 35,
   "metadata": {
    "collapsed": false
   },
   "outputs": [
    {
     "data": {
      "text/plain": [
       "Um      2002\n",
       "Dois    2003\n",
       "Três    2004\n",
       "Name: Ano, dtype: int64"
      ]
     },
     "execution_count": 35,
     "metadata": {},
     "output_type": "execute_result"
    }
   ],
   "source": [
    "frame2['Ano'][:3]"
   ]
  },
  {
   "cell_type": "markdown",
   "metadata": {},
   "source": [
    "---"
   ]
  },
  {
   "cell_type": "code",
   "execution_count": 39,
   "metadata": {
    "collapsed": false
   },
   "outputs": [
    {
     "name": "stdout",
     "output_type": "stream",
     "text": [
      "   Dias  Taxas  Visitantes\n",
      "0     1     11          45\n",
      "1     2     22          23\n",
      "2     3     33          67\n",
      "3     4     44          78\n",
      "4     5     55          23\n",
      "5     6     66          12\n",
      "6     7     77          14\n"
     ]
    }
   ],
   "source": [
    "#CRIANDO UM DICIONÁRIO\n",
    "web_stats = {'Dias':[1,2,3,4,5,6,7],\n",
    "            'Visitantes':[45,23,67,78,23,12,14],\n",
    "            'Taxas':[11,22,33,44,55,66,77]}\n",
    "df = pd.DataFrame(web_stats)\n",
    "print(df)"
   ]
  },
  {
   "cell_type": "code",
   "execution_count": 38,
   "metadata": {
    "collapsed": false,
    "scrolled": true
   },
   "outputs": [
    {
     "name": "stdout",
     "output_type": "stream",
     "text": [
      "      Taxas  Visitantes\n",
      "Dias                   \n",
      "1        11          45\n",
      "2        22          23\n",
      "3        33          67\n",
      "4        44          78\n",
      "5        55          23\n",
      "6        66          12\n",
      "7        77          14\n"
     ]
    }
   ],
   "source": [
    "#VISUALIZANDO O DATAFRAME COM OUTRO INDEX. ATENÇÃO, A INDEXAÇÃO CONTINUA COMEÇANDO COM POSIÇÃO 0\n",
    "print(df.set_index('Dias'))"
   ]
  },
  {
   "cell_type": "code",
   "execution_count": null,
   "metadata": {
    "collapsed": true
   },
   "outputs": [],
   "source": []
  }
 ],
 "metadata": {
  "kernelspec": {
   "display_name": "Python 3",
   "language": "python",
   "name": "python3"
  },
  "language_info": {
   "codemirror_mode": {
    "name": "ipython",
    "version": 3
   },
   "file_extension": ".py",
   "mimetype": "text/x-python",
   "name": "python",
   "nbconvert_exporter": "python",
   "pygments_lexer": "ipython3",
   "version": "3.6.0"
  }
 },
 "nbformat": 4,
 "nbformat_minor": 2
}
