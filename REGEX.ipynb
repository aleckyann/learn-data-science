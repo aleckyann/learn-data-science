{
 "cells": [
  {
   "cell_type": "markdown",
   "metadata": {},
   "source": [
    "# Regular expression\n",
    "---\n",
    "\\d um dígito\n",
    "\n",
    "\\D um não dígito\n",
    "\n",
    "\\s um espaço (tab, espaço, quebra de linha)\n",
    "\n",
    "\\S um (não-espaço)\n",
    "\n",
    "\\w um alfanumérico\n",
    "\n",
    "\\W um não alfanumérico\n",
    "\n",
    "usamos `r` antes dos scapecods"
   ]
  },
  {
   "cell_type": "code",
   "execution_count": 1,
   "metadata": {
    "collapsed": true
   },
   "outputs": [],
   "source": [
    "import re"
   ]
  },
  {
   "cell_type": "code",
   "execution_count": 2,
   "metadata": {
    "collapsed": true
   },
   "outputs": [],
   "source": [
    "lista_pesquisa = ['informações', 'negócios']"
   ]
  },
  {
   "cell_type": "code",
   "execution_count": 9,
   "metadata": {
    "collapsed": true
   },
   "outputs": [],
   "source": [
    "texto = 'Existem muitos desafios para o Big Data. O primeiro deles é a coleta de dados. O segundo é processar esses dados, isto é a extração de informações. Outro desafio é a exibição dos resultados.'"
   ]
  },
  {
   "cell_type": "code",
   "execution_count": 10,
   "metadata": {
    "collapsed": false
   },
   "outputs": [
    {
     "name": "stdout",
     "output_type": "stream",
     "text": [
      "Palavra encontrada. \n",
      "\n",
      "Palavra não encontrada. \n",
      "\n"
     ]
    }
   ],
   "source": [
    "for item in lista_pesquisa:\n",
    "    if re.search(item, texto):\n",
    "        print('Palavra encontrada. \\n')\n",
    "    else:\n",
    "        print('Palavra não encontrada. \\n')"
   ]
  },
  {
   "cell_type": "markdown",
   "metadata": {},
   "source": [
    "split\n",
    "---"
   ]
  },
  {
   "cell_type": "code",
   "execution_count": 11,
   "metadata": {
    "collapsed": true
   },
   "outputs": [],
   "source": [
    "split_term = '@'"
   ]
  },
  {
   "cell_type": "code",
   "execution_count": 12,
   "metadata": {
    "collapsed": true
   },
   "outputs": [],
   "source": [
    "frase = 'Qual o domínio de alguem com e-mail: aleckyann@gmail.com'"
   ]
  },
  {
   "cell_type": "code",
   "execution_count": 14,
   "metadata": {
    "collapsed": false
   },
   "outputs": [
    {
     "data": {
      "text/plain": [
       "['Qual o domínio de alguem com e-mail: aleckyann', 'gmail.com']"
      ]
     },
     "execution_count": 14,
     "metadata": {},
     "output_type": "execute_result"
    }
   ],
   "source": [
    "re.split(split_term, frase)"
   ]
  },
  {
   "cell_type": "code",
   "execution_count": 15,
   "metadata": {
    "collapsed": true
   },
   "outputs": [],
   "source": [
    "def encontra_padrao(lista, frase):\n",
    "    for item in lista:\n",
    "        print(re.findall(item, frase))"
   ]
  },
  {
   "cell_type": "code",
   "execution_count": 16,
   "metadata": {
    "collapsed": true
   },
   "outputs": [],
   "source": [
    "frase_padrao = 'zlzl..zzzLLL...zLLLzLLL...LzLz...dzzzzz...zLLLL'"
   ]
  },
  {
   "cell_type": "code",
   "execution_count": 18,
   "metadata": {
    "collapsed": true
   },
   "outputs": [],
   "source": [
    "lista_padroes = ['zL*', 'zL+', 'zL?', 'zL{3}', 'zL{2,3}']"
   ]
  },
  {
   "cell_type": "code",
   "execution_count": 19,
   "metadata": {
    "collapsed": false
   },
   "outputs": [
    {
     "name": "stdout",
     "output_type": "stream",
     "text": [
      "['z', 'z', 'z', 'z', 'zLLL', 'zLLL', 'zLLL', 'zL', 'z', 'z', 'z', 'z', 'z', 'z', 'zLLLL']\n",
      "['zLLL', 'zLLL', 'zLLL', 'zL', 'zLLLL']\n",
      "['z', 'z', 'z', 'z', 'zL', 'zL', 'zL', 'zL', 'z', 'z', 'z', 'z', 'z', 'z', 'zL']\n",
      "['zLLL', 'zLLL', 'zLLL', 'zLLL']\n",
      "['zLLL', 'zLLL', 'zLLL', 'zLLL']\n"
     ]
    }
   ],
   "source": [
    "encontra_padrao(lista_padroes, frase_padrao)"
   ]
  },
  {
   "cell_type": "code",
   "execution_count": null,
   "metadata": {
    "collapsed": true
   },
   "outputs": [],
   "source": []
  }
 ],
 "metadata": {
  "kernelspec": {
   "display_name": "Python 3",
   "language": "python",
   "name": "python3"
  },
  "language_info": {
   "codemirror_mode": {
    "name": "ipython",
    "version": 3
   },
   "file_extension": ".py",
   "mimetype": "text/x-python",
   "name": "python",
   "nbconvert_exporter": "python",
   "pygments_lexer": "ipython3",
   "version": "3.6.0"
  }
 },
 "nbformat": 4,
 "nbformat_minor": 2
}
