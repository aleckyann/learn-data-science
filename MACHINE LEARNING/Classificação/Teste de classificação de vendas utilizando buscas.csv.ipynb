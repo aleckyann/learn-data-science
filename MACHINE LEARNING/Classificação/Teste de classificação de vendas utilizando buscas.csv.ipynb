{
 "cells": [
  {
   "cell_type": "markdown",
   "metadata": {},
   "source": [
    "> **Importando a lib Pandas**"
   ]
  },
  {
   "cell_type": "code",
   "execution_count": 173,
   "metadata": {
    "collapsed": true
   },
   "outputs": [],
   "source": [
    "import pandas as pd"
   ]
  },
  {
   "cell_type": "markdown",
   "metadata": {},
   "source": [
    "> **Criando um DataFrame à partir do arquivo .csv**"
   ]
  },
  {
   "cell_type": "code",
   "execution_count": 174,
   "metadata": {
    "collapsed": false
   },
   "outputs": [],
   "source": [
    "df = pd.read_csv('buscas.csv')"
   ]
  },
  {
   "cell_type": "markdown",
   "metadata": {},
   "source": [
    "> **Criando DataFrames para características e resultados**"
   ]
  },
  {
   "cell_type": "code",
   "execution_count": 175,
   "metadata": {
    "collapsed": true
   },
   "outputs": [],
   "source": [
    "X_df = df[['home', 'busca', 'logado']]\n",
    "Y_df = df['comprou']"
   ]
  },
  {
   "cell_type": "markdown",
   "metadata": {},
   "source": [
    "> **Criando Dummies das variáveis não numéricas**\n",
    "\n",
    "> Dummies são usados para transformar categorias *string* em várias categorias *binárias*."
   ]
  },
  {
   "cell_type": "code",
   "execution_count": 176,
   "metadata": {
    "collapsed": true
   },
   "outputs": [],
   "source": [
    "Xdummies_df = pd.get_dummies(X_df)\n",
    "Ydummies_df = pd.get_dummies(Y_df)[1]"
   ]
  },
  {
   "cell_type": "markdown",
   "metadata": {},
   "source": [
    "> **Criando listas à partir dos DataFrames**"
   ]
  },
  {
   "cell_type": "code",
   "execution_count": 177,
   "metadata": {
    "collapsed": false
   },
   "outputs": [],
   "source": [
    "X = Xdummies_df.values\n",
    "Y = Ydummies_df.values"
   ]
  },
  {
   "cell_type": "markdown",
   "metadata": {},
   "source": [
    "> **Criando dados de treino** *(90%)* ** e dados de teste** *(10%)*"
   ]
  },
  {
   "cell_type": "code",
   "execution_count": 191,
   "metadata": {
    "collapsed": false
   },
   "outputs": [],
   "source": [
    "porcentagem_de_treino = int(0.9 * len(Y))\n",
    "\n",
    "treino_dados = X[:porcentagem_de_treino]\n",
    "treino_marcacoes = Y[:porcentagem_de_treino]\n",
    "\n",
    "teste_dados = X[porcentagem_de_treino:]\n",
    "teste_marcacoes = Y[porcentagem_de_treino:]"
   ]
  },
  {
   "cell_type": "markdown",
   "metadata": {},
   "source": [
    "> **Importando o Scikit-Learn**"
   ]
  },
  {
   "cell_type": "code",
   "execution_count": 192,
   "metadata": {
    "collapsed": true
   },
   "outputs": [],
   "source": [
    "from sklearn.naive_bayes import MultinomialNB"
   ]
  },
  {
   "cell_type": "markdown",
   "metadata": {},
   "source": [
    "> **Criando um modelo**"
   ]
  },
  {
   "cell_type": "code",
   "execution_count": 193,
   "metadata": {
    "collapsed": true
   },
   "outputs": [],
   "source": [
    "modelo = MultinomialNB()"
   ]
  },
  {
   "cell_type": "markdown",
   "metadata": {},
   "source": [
    "> **Treinando o modelo à partir das características e resultados**"
   ]
  },
  {
   "cell_type": "code",
   "execution_count": 194,
   "metadata": {
    "collapsed": false
   },
   "outputs": [
    {
     "data": {
      "text/plain": [
       "MultinomialNB(alpha=1.0, class_prior=None, fit_prior=True)"
      ]
     },
     "execution_count": 194,
     "metadata": {},
     "output_type": "execute_result"
    }
   ],
   "source": [
    "modelo.fit(treino_dados, treino_marcacoes)"
   ]
  },
  {
   "cell_type": "markdown",
   "metadata": {},
   "source": [
    "> **Prevendo um resultado**"
   ]
  },
  {
   "cell_type": "code",
   "execution_count": 195,
   "metadata": {
    "collapsed": true
   },
   "outputs": [],
   "source": [
    "resultado = modelo.predict(teste_dados)"
   ]
  },
  {
   "cell_type": "markdown",
   "metadata": {},
   "source": [
    "> **Verificando taxa de acerto**"
   ]
  },
  {
   "cell_type": "code",
   "execution_count": 196,
   "metadata": {
    "collapsed": false
   },
   "outputs": [
    {
     "name": "stdout",
     "output_type": "stream",
     "text": [
      "De 100, 82.0% foram acertados!\n"
     ]
    }
   ],
   "source": [
    "diferencas = resultado - teste_marcacoes\n",
    "\n",
    "acertos = [diferenca for diferenca in diferencas if diferenca == 0]\n",
    "taxa_de_acerto = len(acertos) / len(teste_dados) * 100\n",
    "\n",
    "print('De {elementos}, {taxa}% foram acertados!'.format(elementos=total_de_elementos, taxa=taxa_de_acerto))"
   ]
  },
  {
   "cell_type": "markdown",
   "metadata": {},
   "source": [
    "> **Teste do algoritmo burro**\n",
    "\n",
    "> Avalia se o algoritmo utilizado é melhor que um <u>algoritmo burro</u>, que chuta sempre o valor que mais aparece na amostra."
   ]
  },
  {
   "cell_type": "code",
   "execution_count": 199,
   "metadata": {
    "collapsed": false
   },
   "outputs": [
    {
     "name": "stdout",
     "output_type": "stream",
     "text": [
      "Chutando sempre 1, o algoritmo burro acertou: 82%\n"
     ]
    }
   ],
   "source": [
    "if len(teste_marcacoes[teste_marcacoes==1]) > len(teste_marcacoes[teste_marcacoes==0]):\n",
    "    chute = 1\n",
    "    porcentagem = len(teste_marcacoes[teste_marcacoes==1])\n",
    "else:\n",
    "    chute = 0\n",
    "    porcentagem = len(teste_marcacoes[teste_marcacoes==0])\n",
    "\n",
    "print('Chutando sempre {chute}, o algoritmo burro acertou: {porcentagem}%'.format(chute=chute, porcentagem=porcentagem))"
   ]
  },
  {
   "cell_type": "markdown",
   "metadata": {},
   "source": [
    "---\n",
    "Só faz sentido utilizar o algoritmo de Machine Learning se ele obtiver resultados melhores que o <u>algoritmo burro<u>."
   ]
  },
  {
   "cell_type": "code",
   "execution_count": null,
   "metadata": {
    "collapsed": true
   },
   "outputs": [],
   "source": []
  }
 ],
 "metadata": {
  "kernelspec": {
   "display_name": "Python 3",
   "language": "python",
   "name": "python3"
  },
  "language_info": {
   "codemirror_mode": {
    "name": "ipython",
    "version": 3
   },
   "file_extension": ".py",
   "mimetype": "text/x-python",
   "name": "python",
   "nbconvert_exporter": "python",
   "pygments_lexer": "ipython3",
   "version": "3.6.0"
  }
 },
 "nbformat": 4,
 "nbformat_minor": 2
}
