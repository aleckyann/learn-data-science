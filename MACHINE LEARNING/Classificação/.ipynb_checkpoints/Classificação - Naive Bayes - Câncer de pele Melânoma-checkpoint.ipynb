{
 "cells": [
  {
   "cell_type": "markdown",
   "metadata": {},
   "source": [
    "Classificando se é um câncer de pele melanona\n",
    "---\n",
    "O animal é um porco? Classifique de acordo 3 características:\n",
    "* É assimétrico?\n",
    "* Tem bordas irregulares?\n",
    "* Possui várias cores?\n",
    "* Tem mais de 6mm?\n",
    "---"
   ]
  },
  {
   "cell_type": "code",
   "execution_count": 72,
   "metadata": {
    "collapsed": true
   },
   "outputs": [],
   "source": [
    "from sklearn.naive_bayes import MultinomialNB"
   ]
  },
  {
   "cell_type": "code",
   "execution_count": 82,
   "metadata": {
    "collapsed": true
   },
   "outputs": [],
   "source": [
    "modelo = MultinomialNB()"
   ]
  },
  {
   "cell_type": "markdown",
   "metadata": {},
   "source": [
    "---\n",
    "Criando dados de teste e treinamento\n",
    "---\n",
    "[simetrico, bordas, cores, tamanho]"
   ]
  },
  {
   "cell_type": "code",
   "execution_count": 87,
   "metadata": {
    "collapsed": true
   },
   "outputs": [],
   "source": [
    "dados_treino = [[1,1,1,1], [1,1,0,1], [1,1,1,0], [0,1,1,0], [1,0,0,1], [1,0,0,0], [0,0,1,1], [0,0,0,0]]"
   ]
  },
  {
   "cell_type": "code",
   "execution_count": null,
   "metadata": {
    "collapsed": true
   },
   "outputs": [],
   "source": [
    "dados_teste = [[],[],[]]"
   ]
  },
  {
   "cell_type": "markdown",
   "metadata": {},
   "source": [
    "---\n",
    "Criando os resultados de teste e treinamento\n",
    "---"
   ]
  },
  {
   "cell_type": "code",
   "execution_count": 88,
   "metadata": {
    "collapsed": true
   },
   "outputs": [],
   "source": [
    "marcacoes_treino = ['Câncer', 'Câncer provável', 'Câncer', 'Câncer provável', 'Marca Comum', 'Marca Comum', 'Marca Comum', 'Marca Comum']"
   ]
  },
  {
   "cell_type": "code",
   "execution_count": 81,
   "metadata": {
    "collapsed": false
   },
   "outputs": [],
   "source": [
    "marcacoes_teste = ['Câncer', 'Câncer provável', 'Câncer', 'Câncer provável', 'Marca Comum', 'Marca Comum', 'Marca Comum', 'Marca Comum']"
   ]
  },
  {
   "cell_type": "markdown",
   "metadata": {},
   "source": [
    "---"
   ]
  },
  {
   "cell_type": "code",
   "execution_count": 83,
   "metadata": {
    "collapsed": false
   },
   "outputs": [
    {
     "data": {
      "text/plain": [
       "MultinomialNB(alpha=1.0, class_prior=None, fit_prior=True)"
      ]
     },
     "execution_count": 83,
     "metadata": {},
     "output_type": "execute_result"
    }
   ],
   "source": [
    "#modelo.fit(dadosDeTreino, marcacoes) \"Aprenda\"\n",
    "modelo.fit(sinais, marcacoes)"
   ]
  },
  {
   "cell_type": "code",
   "execution_count": 84,
   "metadata": {
    "collapsed": false
   },
   "outputs": [
    {
     "name": "stdout",
     "output_type": "stream",
     "text": [
      "['CAM-']\n"
     ]
    }
   ],
   "source": [
    "print(modelo.predict(marcaDesconhecida))"
   ]
  },
  {
   "cell_type": "code",
   "execution_count": null,
   "metadata": {
    "collapsed": true
   },
   "outputs": [],
   "source": []
  }
 ],
 "metadata": {
  "kernelspec": {
   "display_name": "Python 3",
   "language": "python",
   "name": "python3"
  },
  "language_info": {
   "codemirror_mode": {
    "name": "ipython",
    "version": 3
   },
   "file_extension": ".py",
   "mimetype": "text/x-python",
   "name": "python",
   "nbconvert_exporter": "python",
   "pygments_lexer": "ipython3",
   "version": "3.6.0"
  }
 },
 "nbformat": 4,
 "nbformat_minor": 2
}
