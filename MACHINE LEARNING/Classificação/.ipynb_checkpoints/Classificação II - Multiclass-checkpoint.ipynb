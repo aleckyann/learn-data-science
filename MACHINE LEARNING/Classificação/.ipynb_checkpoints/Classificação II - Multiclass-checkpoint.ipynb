{
 "cells": [
  {
   "cell_type": "markdown",
   "metadata": {},
   "source": [
    "> **Importando a lib Pandas**"
   ]
  },
  {
   "cell_type": "code",
   "execution_count": 11,
   "metadata": {
    "collapsed": true
   },
   "outputs": [],
   "source": [
    "import pandas as pd"
   ]
  },
  {
   "cell_type": "markdown",
   "metadata": {},
   "source": [
    "> **Criando um DataFrame à partir do arquivo .csv**"
   ]
  },
  {
   "cell_type": "code",
   "execution_count": 49,
   "metadata": {
    "collapsed": false
   },
   "outputs": [],
   "source": [
    "df = pd.read_csv('situacao_do_cliente.csv')"
   ]
  },
  {
   "cell_type": "markdown",
   "metadata": {},
   "source": [
    "> **Criando DataFrames para características e resultados**"
   ]
  },
  {
   "cell_type": "code",
   "execution_count": 50,
   "metadata": {
    "collapsed": false
   },
   "outputs": [],
   "source": [
    "X_df = df[['recencia', 'frequencia', 'semanas_de_inscricao']]\n",
    "Y_df = df['situacao']"
   ]
  },
  {
   "cell_type": "markdown",
   "metadata": {},
   "source": [
    "> **Criando Dummies das variáveis não numéricas**\n",
    "\n",
    "> Dummies são usados para transformar categorias *string* em várias categorias *binárias*."
   ]
  },
  {
   "cell_type": "code",
   "execution_count": 51,
   "metadata": {
    "collapsed": true
   },
   "outputs": [],
   "source": [
    "Xdummies_df = pd.get_dummies(X_df)\n",
    "Ydummies_df = Y_df"
   ]
  },
  {
   "cell_type": "markdown",
   "metadata": {},
   "source": [
    "> **Criando listas à partir dos DataFrames**"
   ]
  },
  {
   "cell_type": "code",
   "execution_count": 52,
   "metadata": {
    "collapsed": false
   },
   "outputs": [],
   "source": [
    "X = Xdummies_df.values\n",
    "Y = Ydummies_df.values"
   ]
  },
  {
   "cell_type": "markdown",
   "metadata": {},
   "source": [
    "> **Criando dados de treino** *(80%)* **, dados de teste** *(10%)* **e dados de validação** *(10%)*"
   ]
  },
  {
   "cell_type": "code",
   "execution_count": 223,
   "metadata": {
    "collapsed": false
   },
   "outputs": [],
   "source": [
    "porcentagem_de_treino = int(0.6 * len(Y))\n",
    "porcentagem_de_teste = int(0.2 * len(Y))\n",
    "porcentagem_de_validacao = int(0.2 * len(Y))\n",
    "\n",
    "#0-900\n",
    "treino_dados = X[:porcentagem_de_treino]\n",
    "treino_marcacoes = Y[:porcentagem_de_treino]\n",
    "\n",
    "#800-899\n",
    "teste_dados = X[porcentagem_de_treino:porcentagem_de_treino+porcentagem_de_teste]\n",
    "teste_marcacoes = Y[porcentagem_de_treino:porcentagem_de_treino+porcentagem_de_teste]\n",
    "\n",
    "#900-999\n",
    "validacao_dados = X[-porcentagem_de_validacao:]\n",
    "validacao_marcacoes = Y[-porcentagem_de_validacao:]"
   ]
  },
  {
   "cell_type": "markdown",
   "metadata": {},
   "source": [
    "> **Importando algoritmo usado como multiclass**"
   ]
  },
  {
   "cell_type": "code",
   "execution_count": 224,
   "metadata": {
    "collapsed": true
   },
   "outputs": [],
   "source": [
    "from sklearn.svm import LinearSVC"
   ]
  },
  {
   "cell_type": "markdown",
   "metadata": {},
   "source": [
    "> **Função para treinamento e predição de um modelo**"
   ]
  },
  {
   "cell_type": "code",
   "execution_count": 225,
   "metadata": {
    "collapsed": true
   },
   "outputs": [],
   "source": [
    "def fit_and_predict(nome, modelo, treino_dados, treino_marcacoes, teste_dados, teste_marcacoes):\n",
    "    modelo.fit(treino_dados, treino_marcacoes)\n",
    "\n",
    "    resultado = modelo.predict(teste_dados)\n",
    "\n",
    "    acertos = resultado == teste_marcacoes\n",
    "\n",
    "    total_de_acertos = sum(acertos)\n",
    "    total_de_elementos = len(teste_dados)\n",
    "\n",
    "    taxa_de_acerto = 100.0 * total_de_acertos / total_de_elementos\n",
    "\n",
    "    print(\"Taxa de acerto do algoritmo {0}: {1}%\".format(nome, round(taxa_de_acerto)))\n",
    "\n",
    "    return float(taxa_de_acerto)"
   ]
  },
  {
   "cell_type": "code",
   "execution_count": 226,
   "metadata": {
    "collapsed": true
   },
   "outputs": [],
   "source": [
    "resultados = {}"
   ]
  },
  {
   "cell_type": "code",
   "execution_count": 227,
   "metadata": {
    "collapsed": false
   },
   "outputs": [
    {
     "name": "stdout",
     "output_type": "stream",
     "text": [
      "Taxa de acerto do algoritmo MultinomialNB: 89.0%\n"
     ]
    }
   ],
   "source": [
    "from sklearn.naive_bayes import MultinomialNB # Para Naive Bayes\n",
    "modelo_MultinomialNB = MultinomialNB()\n",
    "resultado_MultinomialNB = fit_and_predict('MultinomialNB', modelo_MultinomialNB, treino_dados, treino_marcacoes, teste_dados, teste_marcacoes)\n",
    "resultados['MultinomialNB'] = resultado_MultinomialNB"
   ]
  },
  {
   "cell_type": "code",
   "execution_count": 228,
   "metadata": {
    "collapsed": false
   },
   "outputs": [
    {
     "name": "stdout",
     "output_type": "stream",
     "text": [
      "Taxa de acerto do algoritmo AdaBoostClassifier: 80.0%\n"
     ]
    }
   ],
   "source": [
    "from sklearn.ensemble import AdaBoostClassifier # Para usar AdaBoost\n",
    "modelo_AdaBoostClassifier = AdaBoostClassifier()\n",
    "resultado_AdaBoostClassifier = fit_and_predict('AdaBoostClassifier', modelo_AdaBoostClassifier, treino_dados, treino_marcacoes, teste_dados, teste_marcacoes)\n",
    "resultados['AdaBoostClassifier'] = resultado_AdaBoostClassifier"
   ]
  },
  {
   "cell_type": "code",
   "execution_count": 229,
   "metadata": {
    "collapsed": false
   },
   "outputs": [
    {
     "name": "stdout",
     "output_type": "stream",
     "text": [
      "Taxa de acerto do algoritmo OneVsRestClassifier: 93.0%\n"
     ]
    }
   ],
   "source": [
    "from sklearn.multiclass import OneVsRestClassifier \n",
    "modelo_OneVsRestClassifier = OneVsRestClassifier(LinearSVC(random_state=0))\n",
    "resultado_OneVsRestClassifier = fit_and_predict('OneVsRestClassifier', modelo_OneVsRestClassifier, treino_dados, treino_marcacoes, teste_dados, teste_marcacoes)\n",
    "resultados['OneVsRestClassifier'] = resultado_OneVsRestClassifier"
   ]
  },
  {
   "cell_type": "code",
   "execution_count": 230,
   "metadata": {
    "collapsed": false
   },
   "outputs": [
    {
     "name": "stdout",
     "output_type": "stream",
     "text": [
      "Taxa de acerto do algoritmo OneVsOneClassifier: 100.0%\n"
     ]
    }
   ],
   "source": [
    "from sklearn.multiclass import OneVsOneClassifier \n",
    "modelo_OneVsOneClassifier = OneVsOneClassifier(LinearSVC(random_state=0))\n",
    "resultado_OneVsOneClassifier = fit_and_predict('OneVsOneClassifier', modelo_OneVsOneClassifier, treino_dados, treino_marcacoes, teste_dados, teste_marcacoes)\n",
    "resultados['OneVsOneClassifier'] = resultado_OneVsOneClassifier"
   ]
  },
  {
   "cell_type": "code",
   "execution_count": 231,
   "metadata": {
    "collapsed": false
   },
   "outputs": [
    {
     "name": "stdout",
     "output_type": "stream",
     "text": [
      "Algoritmo burro: 80%\n"
     ]
    }
   ],
   "source": [
    "print('Algoritmo burro: {0}%'.format(round(max([len(teste_marcacoes[teste_marcacoes==0]), len(teste_marcacoes[teste_marcacoes==1]),len(teste_marcacoes[teste_marcacoes==2])])/len(teste_marcacoes)*100)))"
   ]
  },
  {
   "cell_type": "code",
   "execution_count": 232,
   "metadata": {
    "collapsed": false
   },
   "outputs": [
    {
     "name": "stdout",
     "output_type": "stream",
     "text": [
      "Vencedor: OneVsRestClassifier\n"
     ]
    }
   ],
   "source": [
    "maximo = max(resultados)\n",
    "vencedor = resultados[maximo]\n",
    "print('Vencedor: {0}'.format(maximo))"
   ]
  },
  {
   "cell_type": "markdown",
   "metadata": {},
   "source": [
    "> Testando os algoritmos no mundo real:"
   ]
  },
  {
   "cell_type": "code",
   "execution_count": 233,
   "metadata": {
    "collapsed": false
   },
   "outputs": [
    {
     "name": "stdout",
     "output_type": "stream",
     "text": [
      "[0 0 0 0 0 0 0 0 0 0 0 0 0 0 0 0 0 0 0 0 0 0 0 0 0 0 0 0 0 0 0 0 0 0 0 0 0\n",
      " 0 0 0 0 0 0 0 0]\n"
     ]
    }
   ],
   "source": [
    "print(modelo_OneVsOneClassifier.predict(validacao_dados) - validacao_marcacoes)"
   ]
  },
  {
   "cell_type": "code",
   "execution_count": 234,
   "metadata": {
    "collapsed": false
   },
   "outputs": [
    {
     "name": "stdout",
     "output_type": "stream",
     "text": [
      "[0 0 0 0 0 0 0 0 0 0 0 0 0 1 0 0 0 0 1 0 0 0 0 0 0 0 0 0 0 1 0 1 0 0 0 0 0\n",
      " 0 0 0 0 0 0 0 1]\n"
     ]
    }
   ],
   "source": [
    "print(modelo_OneVsRestClassifier.predict(validacao_dados) - validacao_marcacoes)"
   ]
  },
  {
   "cell_type": "code",
   "execution_count": 235,
   "metadata": {
    "collapsed": false
   },
   "outputs": [
    {
     "name": "stdout",
     "output_type": "stream",
     "text": [
      "[-1  1  0  0  0  0  0  0  0  0  0  0  0  1  0  0  0  0  1  0  0  0  0  0  0\n",
      "  0  0  0  0  1  0  1  0  0  0  0  0  0  0  0  0  0  0  0  1]\n"
     ]
    }
   ],
   "source": [
    "print(modelo_MultinomialNB.predict(validacao_dados) - validacao_marcacoes)"
   ]
  },
  {
   "cell_type": "code",
   "execution_count": 236,
   "metadata": {
    "collapsed": false
   },
   "outputs": [
    {
     "name": "stdout",
     "output_type": "stream",
     "text": [
      "[-1  1  0  0  0  0  0  0 -1  0 -1  0  0  1  0  0  0  0  1  0 -1  0  0  0  0\n",
      " -1  0  0  0  1  0  1  0  0  0  0  0  0  0  0  0  0  0  0  1]\n"
     ]
    }
   ],
   "source": [
    "print(modelo_AdaBoostClassifier.predict(validacao_dados) - validacao_marcacoes)"
   ]
  },
  {
   "cell_type": "code",
   "execution_count": null,
   "metadata": {
    "collapsed": true
   },
   "outputs": [],
   "source": []
  }
 ],
 "metadata": {
  "kernelspec": {
   "display_name": "Python 3",
   "language": "python",
   "name": "python3"
  },
  "language_info": {
   "codemirror_mode": {
    "name": "ipython",
    "version": 3
   },
   "file_extension": ".py",
   "mimetype": "text/x-python",
   "name": "python",
   "nbconvert_exporter": "python",
   "pygments_lexer": "ipython3",
   "version": "3.6.0"
  }
 },
 "nbformat": 4,
 "nbformat_minor": 2
}
