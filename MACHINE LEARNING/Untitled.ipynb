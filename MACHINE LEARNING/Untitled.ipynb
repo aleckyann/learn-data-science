{
 "cells": [
  {
   "cell_type": "code",
   "execution_count": 28,
   "metadata": {
    "collapsed": false
   },
   "outputs": [
    {
     "ename": "ModuleNotFoundError",
     "evalue": "No module named 'pybrain'",
     "output_type": "error",
     "traceback": [
      "\u001b[0;31m---------------------------------------------------------------------------\u001b[0m",
      "\u001b[0;31mModuleNotFoundError\u001b[0m                       Traceback (most recent call last)",
      "\u001b[0;32m<ipython-input-28-2ef8e74338a3>\u001b[0m in \u001b[0;36m<module>\u001b[0;34m()\u001b[0m\n\u001b[0;32m----> 1\u001b[0;31m \u001b[0;32mfrom\u001b[0m \u001b[0mpybrain\u001b[0m\u001b[0;34m.\u001b[0m\u001b[0mdatasets\u001b[0m \u001b[0;32mimport\u001b[0m \u001b[0mSupervisedDataSet\u001b[0m\u001b[0;34m\u001b[0m\u001b[0m\n\u001b[0m\u001b[1;32m      2\u001b[0m \u001b[0;32mfrom\u001b[0m \u001b[0mpybrain\u001b[0m\u001b[0;34m.\u001b[0m\u001b[0mtools\u001b[0m\u001b[0;34m.\u001b[0m\u001b[0mshortcuts\u001b[0m \u001b[0;32mimport\u001b[0m \u001b[0mbuildNetwork\u001b[0m\u001b[0;34m\u001b[0m\u001b[0m\n\u001b[1;32m      3\u001b[0m \u001b[0;32mfrom\u001b[0m \u001b[0mpybrain\u001b[0m\u001b[0;34m.\u001b[0m\u001b[0msupervised\u001b[0m \u001b[0;32mimport\u001b[0m \u001b[0mBackpropTrainer\u001b[0m\u001b[0;34m\u001b[0m\u001b[0m\n\u001b[1;32m      4\u001b[0m \u001b[0;34m\u001b[0m\u001b[0m\n\u001b[1;32m      5\u001b[0m \u001b[0;31m# cria-se um conjunto de dados (dataset) para treinamento\u001b[0m\u001b[0;34m\u001b[0m\u001b[0;34m\u001b[0m\u001b[0m\n",
      "\u001b[0;31mModuleNotFoundError\u001b[0m: No module named 'pybrain'"
     ]
    }
   ],
   "source": [
    "from pybrain.datasets import SupervisedDataSet\n",
    "from pybrain.tools.shortcuts import buildNetwork\n",
    "from pybrain.supervised import BackpropTrainer\n",
    "\n",
    "# cria-se um conjunto de dados (dataset) para treinamento\n",
    "# são passadas as dimensões dos vetores de entrada e do objetivo\n",
    "dataset = SupervisedDataSet(2,1)\n",
    "\n",
    "# adiciona-se as amostras que consiste numa entrada e num objetivo\n",
    "# como vamos resolver o XOR, inserimos como na tabela-verdade\n",
    "dataset.addSample([1,0,0],[0])\n",
    "dataset.addSample([1,0,1],[0])\n",
    "dataset.addSample([1,1,0],[0])\n",
    "dataset.addSample([1,1,1],[1])\n",
    "\n",
    "'''\n",
    "Agora iremos construir a rede utilizando a função buildNetwork\n",
    "dataset.indim é o tamanho da camada de entrada\n",
    "4 é a quantidade de camadas intermediárias\n",
    "dataset.outdim é o tamanho da camada de saída\n",
    "iremos utilizar o \"bias\" para permitir uma melhor adaptação por parte da rede neural\n",
    "ao conhecimento à ela fornecido\n",
    "'''\n",
    "network = buildNetwork(dataset.indim, 4, dataset.outdim, bias=True)\n",
    "\n",
    "'''\n",
    "O procedimento que iremos utilizar para treinar a rede é o backpropagation.\n",
    "É pasada a rede, o conjunto de dados (dataset), \"learningrate\" é a taxa de aprendizado,\n",
    "\"momentum\" tem por objetivo aumentar a velocidade de treinamento da rede neural e\n",
    "diminuir o perigo da instabilidade.\n",
    "'''\n",
    "trainer = BackpropTrainer(network, dataset, learningrate=0.01, momentum=0.99)\n",
    "\n",
    "# Logo em seguinda é feito de fato o treinamento da rede\n",
    "for epoch in range(0, 1000): # treina por 1000 épocas\n",
    "    trainer.train()\n",
    "\n",
    "'''\n",
    "Outras formas de treinar:\n",
    "    trainer.trainEpochs(1000)\n",
    "    treinar até a convergência: trainer.trainUntilConvergence()\n",
    "'''\n",
    "\n",
    "# Agora iremos testar a rede com um conjunto de dados\n",
    "test_data = SupervisedDataSet(2,1)\n",
    "test_data.addSample([1,1],[0])\n",
    "test_data.addSample([1,0],[1])\n",
    "test_data.addSample([0,1],[1])\n",
    "test_data.addSample([0,0],[0])\n",
    "# verbose=True indica que deve ser impressas mensagens\n",
    "trainer.testOnData(test_data, verbose=True)"
   ]
  },
  {
   "cell_type": "code",
   "execution_count": null,
   "metadata": {
    "collapsed": true
   },
   "outputs": [],
   "source": []
  }
 ],
 "metadata": {
  "kernelspec": {
   "display_name": "Python 3",
   "language": "python",
   "name": "python3"
  },
  "language_info": {
   "codemirror_mode": {
    "name": "ipython",
    "version": 3
   },
   "file_extension": ".py",
   "mimetype": "text/x-python",
   "name": "python",
   "nbconvert_exporter": "python",
   "pygments_lexer": "ipython3",
   "version": "3.6.0"
  }
 },
 "nbformat": 4,
 "nbformat_minor": 2
}
